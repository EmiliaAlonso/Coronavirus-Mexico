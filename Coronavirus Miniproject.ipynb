{
 "cells": [
  {
   "cell_type": "code",
   "execution_count": 1,
   "metadata": {},
   "outputs": [],
   "source": [
    "import pandas as pd\n",
    "import numpy as np\n",
    "import matplotlib.pyplot as plt"
   ]
  },
  {
   "cell_type": "code",
   "execution_count": 2,
   "metadata": {
    "scrolled": true
   },
   "outputs": [
    {
     "data": {
      "text/html": [
       "<div>\n",
       "<style scoped>\n",
       "    .dataframe tbody tr th:only-of-type {\n",
       "        vertical-align: middle;\n",
       "    }\n",
       "\n",
       "    .dataframe tbody tr th {\n",
       "        vertical-align: top;\n",
       "    }\n",
       "\n",
       "    .dataframe thead th {\n",
       "        text-align: right;\n",
       "    }\n",
       "</style>\n",
       "<table border=\"1\" class=\"dataframe\">\n",
       "  <thead>\n",
       "    <tr style=\"text-align: right;\">\n",
       "      <th></th>\n",
       "      <th>FECHA_ACTUALIZACION</th>\n",
       "      <th>ID_REGISTRO</th>\n",
       "      <th>ORIGEN</th>\n",
       "      <th>SECTOR</th>\n",
       "      <th>ENTIDAD_UM</th>\n",
       "      <th>SEXO</th>\n",
       "      <th>ENTIDAD_NAC</th>\n",
       "      <th>ENTIDAD_RES</th>\n",
       "      <th>MUNICIPIO_RES</th>\n",
       "      <th>TIPO_PACIENTE</th>\n",
       "      <th>...</th>\n",
       "      <th>RENAL_CRONICA</th>\n",
       "      <th>TABAQUISMO</th>\n",
       "      <th>OTRO_CASO</th>\n",
       "      <th>TOMA_MUESTRA</th>\n",
       "      <th>RESULTADO_LAB</th>\n",
       "      <th>CLASIFICACION_FINAL</th>\n",
       "      <th>MIGRANTE</th>\n",
       "      <th>PAIS_NACIONALIDAD</th>\n",
       "      <th>PAIS_ORIGEN</th>\n",
       "      <th>UCI</th>\n",
       "    </tr>\n",
       "  </thead>\n",
       "  <tbody>\n",
       "    <tr>\n",
       "      <th>0</th>\n",
       "      <td>2020-11-14</td>\n",
       "      <td>071735</td>\n",
       "      <td>2</td>\n",
       "      <td>9</td>\n",
       "      <td>21</td>\n",
       "      <td>2</td>\n",
       "      <td>21</td>\n",
       "      <td>21</td>\n",
       "      <td>114</td>\n",
       "      <td>1</td>\n",
       "      <td>...</td>\n",
       "      <td>2</td>\n",
       "      <td>2</td>\n",
       "      <td>2</td>\n",
       "      <td>1</td>\n",
       "      <td>1</td>\n",
       "      <td>3</td>\n",
       "      <td>99</td>\n",
       "      <td>MÃ©xico</td>\n",
       "      <td>97</td>\n",
       "      <td>97</td>\n",
       "    </tr>\n",
       "    <tr>\n",
       "      <th>1</th>\n",
       "      <td>2020-11-14</td>\n",
       "      <td>1468a5</td>\n",
       "      <td>1</td>\n",
       "      <td>4</td>\n",
       "      <td>5</td>\n",
       "      <td>1</td>\n",
       "      <td>15</td>\n",
       "      <td>5</td>\n",
       "      <td>18</td>\n",
       "      <td>1</td>\n",
       "      <td>...</td>\n",
       "      <td>2</td>\n",
       "      <td>2</td>\n",
       "      <td>1</td>\n",
       "      <td>1</td>\n",
       "      <td>1</td>\n",
       "      <td>3</td>\n",
       "      <td>99</td>\n",
       "      <td>MÃ©xico</td>\n",
       "      <td>97</td>\n",
       "      <td>97</td>\n",
       "    </tr>\n",
       "    <tr>\n",
       "      <th>2</th>\n",
       "      <td>2020-11-14</td>\n",
       "      <td>043f64</td>\n",
       "      <td>2</td>\n",
       "      <td>4</td>\n",
       "      <td>9</td>\n",
       "      <td>2</td>\n",
       "      <td>9</td>\n",
       "      <td>9</td>\n",
       "      <td>10</td>\n",
       "      <td>2</td>\n",
       "      <td>...</td>\n",
       "      <td>1</td>\n",
       "      <td>2</td>\n",
       "      <td>99</td>\n",
       "      <td>1</td>\n",
       "      <td>1</td>\n",
       "      <td>3</td>\n",
       "      <td>99</td>\n",
       "      <td>MÃ©xico</td>\n",
       "      <td>97</td>\n",
       "      <td>1</td>\n",
       "    </tr>\n",
       "    <tr>\n",
       "      <th>3</th>\n",
       "      <td>2020-11-14</td>\n",
       "      <td>0e07d8</td>\n",
       "      <td>1</td>\n",
       "      <td>4</td>\n",
       "      <td>15</td>\n",
       "      <td>2</td>\n",
       "      <td>15</td>\n",
       "      <td>15</td>\n",
       "      <td>104</td>\n",
       "      <td>2</td>\n",
       "      <td>...</td>\n",
       "      <td>2</td>\n",
       "      <td>2</td>\n",
       "      <td>99</td>\n",
       "      <td>1</td>\n",
       "      <td>1</td>\n",
       "      <td>3</td>\n",
       "      <td>99</td>\n",
       "      <td>MÃ©xico</td>\n",
       "      <td>97</td>\n",
       "      <td>2</td>\n",
       "    </tr>\n",
       "    <tr>\n",
       "      <th>4</th>\n",
       "      <td>2020-11-14</td>\n",
       "      <td>13757c</td>\n",
       "      <td>1</td>\n",
       "      <td>12</td>\n",
       "      <td>15</td>\n",
       "      <td>1</td>\n",
       "      <td>15</td>\n",
       "      <td>15</td>\n",
       "      <td>106</td>\n",
       "      <td>1</td>\n",
       "      <td>...</td>\n",
       "      <td>2</td>\n",
       "      <td>2</td>\n",
       "      <td>1</td>\n",
       "      <td>1</td>\n",
       "      <td>1</td>\n",
       "      <td>3</td>\n",
       "      <td>99</td>\n",
       "      <td>MÃ©xico</td>\n",
       "      <td>97</td>\n",
       "      <td>97</td>\n",
       "    </tr>\n",
       "  </tbody>\n",
       "</table>\n",
       "<p>5 rows × 38 columns</p>\n",
       "</div>"
      ],
      "text/plain": [
       "  FECHA_ACTUALIZACION ID_REGISTRO  ORIGEN  SECTOR  ENTIDAD_UM  SEXO  \\\n",
       "0          2020-11-14      071735       2       9          21     2   \n",
       "1          2020-11-14      1468a5       1       4           5     1   \n",
       "2          2020-11-14      043f64       2       4           9     2   \n",
       "3          2020-11-14      0e07d8       1       4          15     2   \n",
       "4          2020-11-14      13757c       1      12          15     1   \n",
       "\n",
       "   ENTIDAD_NAC  ENTIDAD_RES  MUNICIPIO_RES  TIPO_PACIENTE  ... RENAL_CRONICA  \\\n",
       "0           21           21            114              1  ...             2   \n",
       "1           15            5             18              1  ...             2   \n",
       "2            9            9             10              2  ...             1   \n",
       "3           15           15            104              2  ...             2   \n",
       "4           15           15            106              1  ...             2   \n",
       "\n",
       "  TABAQUISMO OTRO_CASO  TOMA_MUESTRA  RESULTADO_LAB  CLASIFICACION_FINAL  \\\n",
       "0          2         2             1              1                    3   \n",
       "1          2         1             1              1                    3   \n",
       "2          2        99             1              1                    3   \n",
       "3          2        99             1              1                    3   \n",
       "4          2         1             1              1                    3   \n",
       "\n",
       "   MIGRANTE  PAIS_NACIONALIDAD  PAIS_ORIGEN  UCI  \n",
       "0        99            MÃ©xico           97   97  \n",
       "1        99            MÃ©xico           97   97  \n",
       "2        99            MÃ©xico           97    1  \n",
       "3        99            MÃ©xico           97    2  \n",
       "4        99            MÃ©xico           97   97  \n",
       "\n",
       "[5 rows x 38 columns]"
      ]
     },
     "execution_count": 2,
     "metadata": {},
     "output_type": "execute_result"
    }
   ],
   "source": [
    "df= pd.read_csv(\"201114COVID19MEXICO.csv\",encoding='latin-1')\n",
    "df.head()"
   ]
  },
  {
   "cell_type": "code",
   "execution_count": 3,
   "metadata": {},
   "outputs": [
    {
     "data": {
      "text/plain": [
       "(2604659, 38)"
      ]
     },
     "execution_count": 3,
     "metadata": {},
     "output_type": "execute_result"
    }
   ],
   "source": [
    "df.shape"
   ]
  },
  {
   "cell_type": "markdown",
   "metadata": {},
   "source": [
    "Dataset principal/Main dataset:\n",
    "\n",
    "201114COVID19MEXICO.csv\n",
    "\n"
   ]
  },
  {
   "cell_type": "code",
   "execution_count": 4,
   "metadata": {},
   "outputs": [
    {
     "data": {
      "text/plain": [
       "Index(['FECHA_ACTUALIZACION', 'ID_REGISTRO', 'ORIGEN', 'SECTOR', 'ENTIDAD_UM',\n",
       "       'SEXO', 'ENTIDAD_NAC', 'ENTIDAD_RES', 'MUNICIPIO_RES', 'TIPO_PACIENTE',\n",
       "       'FECHA_INGRESO', 'FECHA_SINTOMAS', 'FECHA_DEF', 'INTUBADO', 'NEUMONIA',\n",
       "       'EDAD', 'NACIONALIDAD', 'EMBARAZO', 'HABLA_LENGUA_INDIG', 'INDIGENA',\n",
       "       'DIABETES', 'EPOC', 'ASMA', 'INMUSUPR', 'HIPERTENSION', 'OTRA_COM',\n",
       "       'CARDIOVASCULAR', 'OBESIDAD', 'RENAL_CRONICA', 'TABAQUISMO',\n",
       "       'OTRO_CASO', 'TOMA_MUESTRA', 'RESULTADO_LAB', 'CLASIFICACION_FINAL',\n",
       "       'MIGRANTE', 'PAIS_NACIONALIDAD', 'PAIS_ORIGEN', 'UCI'],\n",
       "      dtype='object')"
      ]
     },
     "execution_count": 4,
     "metadata": {},
     "output_type": "execute_result"
    }
   ],
   "source": [
    "df.columns"
   ]
  },
  {
   "cell_type": "code",
   "execution_count": 5,
   "metadata": {},
   "outputs": [
    {
     "data": {
      "text/html": [
       "<div>\n",
       "<style scoped>\n",
       "    .dataframe tbody tr th:only-of-type {\n",
       "        vertical-align: middle;\n",
       "    }\n",
       "\n",
       "    .dataframe tbody tr th {\n",
       "        vertical-align: top;\n",
       "    }\n",
       "\n",
       "    .dataframe thead th {\n",
       "        text-align: right;\n",
       "    }\n",
       "</style>\n",
       "<table border=\"1\" class=\"dataframe\">\n",
       "  <thead>\n",
       "    <tr style=\"text-align: right;\">\n",
       "      <th></th>\n",
       "      <th>CLAVE</th>\n",
       "      <th>DESCRIPCIÓN</th>\n",
       "    </tr>\n",
       "  </thead>\n",
       "  <tbody>\n",
       "    <tr>\n",
       "      <th>0</th>\n",
       "      <td>1</td>\n",
       "      <td>USMER</td>\n",
       "    </tr>\n",
       "    <tr>\n",
       "      <th>1</th>\n",
       "      <td>2</td>\n",
       "      <td>FUERA DE USMER</td>\n",
       "    </tr>\n",
       "    <tr>\n",
       "      <th>2</th>\n",
       "      <td>99</td>\n",
       "      <td>NO ESPECIFICADO</td>\n",
       "    </tr>\n",
       "  </tbody>\n",
       "</table>\n",
       "</div>"
      ],
      "text/plain": [
       "   CLAVE      DESCRIPCIÓN\n",
       "0      1            USMER\n",
       "1      2   FUERA DE USMER\n",
       "2     99  NO ESPECIFICADO"
      ]
     },
     "execution_count": 5,
     "metadata": {},
     "output_type": "execute_result"
    }
   ],
   "source": [
    "df_1 = pd.read_excel(\"Catalogos_071020.xlsx\")\n",
    "df_1"
   ]
  },
  {
   "cell_type": "code",
   "execution_count": 6,
   "metadata": {},
   "outputs": [
    {
     "data": {
      "text/plain": [
       "Index(['CLAVE', 'DESCRIPCIÓN'], dtype='object')"
      ]
     },
     "execution_count": 6,
     "metadata": {},
     "output_type": "execute_result"
    }
   ],
   "source": [
    "df_1.columns"
   ]
  },
  {
   "cell_type": "code",
   "execution_count": 7,
   "metadata": {},
   "outputs": [
    {
     "data": {
      "text/html": [
       "<div>\n",
       "<style scoped>\n",
       "    .dataframe tbody tr th:only-of-type {\n",
       "        vertical-align: middle;\n",
       "    }\n",
       "\n",
       "    .dataframe tbody tr th {\n",
       "        vertical-align: top;\n",
       "    }\n",
       "\n",
       "    .dataframe thead th {\n",
       "        text-align: right;\n",
       "    }\n",
       "</style>\n",
       "<table border=\"1\" class=\"dataframe\">\n",
       "  <thead>\n",
       "    <tr style=\"text-align: right;\">\n",
       "      <th></th>\n",
       "      <th>Nº</th>\n",
       "      <th>NOMBRE DE VARIABLE</th>\n",
       "      <th>DESCRIPCIÓN DE VARIABLE</th>\n",
       "      <th>FORMATO O FUENTE</th>\n",
       "    </tr>\n",
       "  </thead>\n",
       "  <tbody>\n",
       "    <tr>\n",
       "      <th>0</th>\n",
       "      <td>1</td>\n",
       "      <td>FECHA_ACTUALIZACION</td>\n",
       "      <td>La base de datos se alimenta diariamente, esta...</td>\n",
       "      <td>AAAA-MM-DD</td>\n",
       "    </tr>\n",
       "    <tr>\n",
       "      <th>1</th>\n",
       "      <td>2</td>\n",
       "      <td>ID_REGISTRO</td>\n",
       "      <td>Número identificador del caso</td>\n",
       "      <td>TEXTO</td>\n",
       "    </tr>\n",
       "    <tr>\n",
       "      <th>2</th>\n",
       "      <td>3</td>\n",
       "      <td>ORIGEN</td>\n",
       "      <td>La vigilancia centinela se realiza a través de...</td>\n",
       "      <td>CATÁLOGO: ORIGEN                              ...</td>\n",
       "    </tr>\n",
       "    <tr>\n",
       "      <th>3</th>\n",
       "      <td>4</td>\n",
       "      <td>SECTOR</td>\n",
       "      <td>Identifica el tipo de institución del Sistema ...</td>\n",
       "      <td>CATÁLOGO: SECTOR                              ...</td>\n",
       "    </tr>\n",
       "    <tr>\n",
       "      <th>4</th>\n",
       "      <td>5</td>\n",
       "      <td>ENTIDAD_UM</td>\n",
       "      <td>Identifica la entidad donde se ubica la unidad...</td>\n",
       "      <td>CATALÓGO: ENTIDADES</td>\n",
       "    </tr>\n",
       "    <tr>\n",
       "      <th>5</th>\n",
       "      <td>6</td>\n",
       "      <td>SEXO</td>\n",
       "      <td>Identifica al sexo del paciente.</td>\n",
       "      <td>CATÁLOGO: SEXO</td>\n",
       "    </tr>\n",
       "    <tr>\n",
       "      <th>6</th>\n",
       "      <td>7</td>\n",
       "      <td>ENTIDAD_NAC</td>\n",
       "      <td>Identifica la entidad de nacimiento del paciente.</td>\n",
       "      <td>CATALÓGO: ENTIDADES</td>\n",
       "    </tr>\n",
       "    <tr>\n",
       "      <th>7</th>\n",
       "      <td>8</td>\n",
       "      <td>ENTIDAD_RES</td>\n",
       "      <td>Identifica la entidad de residencia del paciente.</td>\n",
       "      <td>CATALÓGO: ENTIDADES</td>\n",
       "    </tr>\n",
       "    <tr>\n",
       "      <th>8</th>\n",
       "      <td>9</td>\n",
       "      <td>MUNICIPIO_RES</td>\n",
       "      <td>Identifica el municipio de residencia del paci...</td>\n",
       "      <td>CATALÓGO: MUNICIPIOS</td>\n",
       "    </tr>\n",
       "    <tr>\n",
       "      <th>9</th>\n",
       "      <td>10</td>\n",
       "      <td>TIPO_PACIENTE</td>\n",
       "      <td>Identifica el tipo de atención que recibió el ...</td>\n",
       "      <td>CATÁLOGO: TIPO_PACIENTE</td>\n",
       "    </tr>\n",
       "    <tr>\n",
       "      <th>10</th>\n",
       "      <td>11</td>\n",
       "      <td>FECHA_INGRESO</td>\n",
       "      <td>Identifica la fecha de ingreso del paciente a ...</td>\n",
       "      <td>AAAA-MM-DD</td>\n",
       "    </tr>\n",
       "    <tr>\n",
       "      <th>11</th>\n",
       "      <td>12</td>\n",
       "      <td>FECHA_SINTOMAS</td>\n",
       "      <td>Idenitifica la fecha en que inició la sintomat...</td>\n",
       "      <td>AAAA-MM-DD</td>\n",
       "    </tr>\n",
       "    <tr>\n",
       "      <th>12</th>\n",
       "      <td>13</td>\n",
       "      <td>FECHA_DEF</td>\n",
       "      <td>Identifica la fecha en que el paciente falleció.</td>\n",
       "      <td>AAAA-MM-DD</td>\n",
       "    </tr>\n",
       "    <tr>\n",
       "      <th>13</th>\n",
       "      <td>14</td>\n",
       "      <td>INTUBADO</td>\n",
       "      <td>Identifica si el paciente requirió de intubación.</td>\n",
       "      <td>CATÁLOGO: SI_ NO                              ...</td>\n",
       "    </tr>\n",
       "    <tr>\n",
       "      <th>14</th>\n",
       "      <td>15</td>\n",
       "      <td>NEUMONIA</td>\n",
       "      <td>Identifica si al paciente se le diagnosticó co...</td>\n",
       "      <td>CATÁLOGO: SI_ NO                              ...</td>\n",
       "    </tr>\n",
       "    <tr>\n",
       "      <th>15</th>\n",
       "      <td>16</td>\n",
       "      <td>EDAD</td>\n",
       "      <td>Identifica la edad del paciente.</td>\n",
       "      <td>NÚMERICA EN AÑOS</td>\n",
       "    </tr>\n",
       "    <tr>\n",
       "      <th>16</th>\n",
       "      <td>17</td>\n",
       "      <td>NACIONALIDAD</td>\n",
       "      <td>Identifica si el paciente es mexicano o extran...</td>\n",
       "      <td>CATÁLOGO: NACIONALIDAD</td>\n",
       "    </tr>\n",
       "    <tr>\n",
       "      <th>17</th>\n",
       "      <td>18</td>\n",
       "      <td>EMBARAZO</td>\n",
       "      <td>Identifica si la paciente está embarazada.</td>\n",
       "      <td>CATÁLOGO: SI_ NO                              ...</td>\n",
       "    </tr>\n",
       "    <tr>\n",
       "      <th>18</th>\n",
       "      <td>19</td>\n",
       "      <td>HABLA_LENGUA_INDIG</td>\n",
       "      <td>Identifica si el paciente habla lengua índigena.</td>\n",
       "      <td>CATÁLOGO: SI_ NO                              ...</td>\n",
       "    </tr>\n",
       "    <tr>\n",
       "      <th>19</th>\n",
       "      <td>20</td>\n",
       "      <td>INDIGENA</td>\n",
       "      <td>Identifica si el paciente se autoidentifica co...</td>\n",
       "      <td>CATÁLOGO: SI_ NO                              ...</td>\n",
       "    </tr>\n",
       "    <tr>\n",
       "      <th>20</th>\n",
       "      <td>21</td>\n",
       "      <td>DIABETES</td>\n",
       "      <td>Identifica si el paciente tiene un diagnóstico...</td>\n",
       "      <td>CATÁLOGO: SI_ NO                              ...</td>\n",
       "    </tr>\n",
       "    <tr>\n",
       "      <th>21</th>\n",
       "      <td>22</td>\n",
       "      <td>EPOC</td>\n",
       "      <td>Identifica si el paciente tiene un diagnóstico...</td>\n",
       "      <td>CATÁLOGO: SI_ NO                              ...</td>\n",
       "    </tr>\n",
       "    <tr>\n",
       "      <th>22</th>\n",
       "      <td>23</td>\n",
       "      <td>ASMA</td>\n",
       "      <td>Identifica si el paciente tiene un diagnóstico...</td>\n",
       "      <td>CATÁLOGO: SI_ NO                              ...</td>\n",
       "    </tr>\n",
       "    <tr>\n",
       "      <th>23</th>\n",
       "      <td>24</td>\n",
       "      <td>INMUSUPR</td>\n",
       "      <td>Identifica si el paciente presenta inmunosupre...</td>\n",
       "      <td>CATÁLOGO: SI_ NO                              ...</td>\n",
       "    </tr>\n",
       "    <tr>\n",
       "      <th>24</th>\n",
       "      <td>25</td>\n",
       "      <td>HIPERTENSION</td>\n",
       "      <td>Identifica si el paciente tiene un diagnóstico...</td>\n",
       "      <td>CATÁLOGO: SI_ NO                              ...</td>\n",
       "    </tr>\n",
       "    <tr>\n",
       "      <th>25</th>\n",
       "      <td>26</td>\n",
       "      <td>OTRAS_COM</td>\n",
       "      <td>Identifica si el paciente tiene diagnóstico de...</td>\n",
       "      <td>CATÁLOGO: SI_ NO                              ...</td>\n",
       "    </tr>\n",
       "    <tr>\n",
       "      <th>26</th>\n",
       "      <td>27</td>\n",
       "      <td>CARDIOVASCULAR</td>\n",
       "      <td>Identifica si el paciente tiene un diagnóstico...</td>\n",
       "      <td>CATÁLOGO: SI_ NO                              ...</td>\n",
       "    </tr>\n",
       "    <tr>\n",
       "      <th>27</th>\n",
       "      <td>28</td>\n",
       "      <td>OBESIDAD</td>\n",
       "      <td>Identifica si el paciente tiene diagnóstico de...</td>\n",
       "      <td>CATÁLOGO: SI_ NO                              ...</td>\n",
       "    </tr>\n",
       "    <tr>\n",
       "      <th>28</th>\n",
       "      <td>29</td>\n",
       "      <td>RENAL_CRONICA</td>\n",
       "      <td>Identifica si el paciente tiene diagnóstico de...</td>\n",
       "      <td>CATÁLOGO: SI_ NO                              ...</td>\n",
       "    </tr>\n",
       "    <tr>\n",
       "      <th>29</th>\n",
       "      <td>30</td>\n",
       "      <td>TABAQUISMO</td>\n",
       "      <td>Identifica si el paciente tiene hábito de taba...</td>\n",
       "      <td>CATÁLOGO: SI_ NO                              ...</td>\n",
       "    </tr>\n",
       "    <tr>\n",
       "      <th>30</th>\n",
       "      <td>31</td>\n",
       "      <td>OTRO_CASO</td>\n",
       "      <td>Identifica si el paciente tuvo contacto con al...</td>\n",
       "      <td>CATÁLOGO: SI_ NO                              ...</td>\n",
       "    </tr>\n",
       "    <tr>\n",
       "      <th>31</th>\n",
       "      <td>32</td>\n",
       "      <td>TOMA_MUESTRA</td>\n",
       "      <td>Identifica si al paciente se le tomó muestra.</td>\n",
       "      <td>CATÁLOGO: SI_ NO</td>\n",
       "    </tr>\n",
       "    <tr>\n",
       "      <th>32</th>\n",
       "      <td>33</td>\n",
       "      <td>RESULTADO_LAB</td>\n",
       "      <td>Identifica el resultado del análisis de la mue...</td>\n",
       "      <td>CATÁLOGO: RESULTADO_LAB</td>\n",
       "    </tr>\n",
       "    <tr>\n",
       "      <th>33</th>\n",
       "      <td>34</td>\n",
       "      <td>CLASIFICACION_FINAL</td>\n",
       "      <td>Identifica si el paciente es un caso de COVID-...</td>\n",
       "      <td>CATÁLOGO: CLASIFICACION_FINAL</td>\n",
       "    </tr>\n",
       "    <tr>\n",
       "      <th>34</th>\n",
       "      <td>35</td>\n",
       "      <td>MIGRANTE</td>\n",
       "      <td>Identifica si el paciente es una persona migra...</td>\n",
       "      <td>CATÁLOGO: SI_ NO                              ...</td>\n",
       "    </tr>\n",
       "    <tr>\n",
       "      <th>35</th>\n",
       "      <td>36</td>\n",
       "      <td>PAIS_NACIONALIDAD</td>\n",
       "      <td>Identifica la nacionalidad del paciente.</td>\n",
       "      <td>TEXTO, 99= SE IGNORA</td>\n",
       "    </tr>\n",
       "    <tr>\n",
       "      <th>36</th>\n",
       "      <td>37</td>\n",
       "      <td>PAIS_ORIGEN</td>\n",
       "      <td>Identifica el país del que partió el paciente ...</td>\n",
       "      <td>TEXTO, 97= NO APLICA</td>\n",
       "    </tr>\n",
       "    <tr>\n",
       "      <th>37</th>\n",
       "      <td>38</td>\n",
       "      <td>UCI</td>\n",
       "      <td>Identifica si el paciente requirió ingresar a ...</td>\n",
       "      <td>CATÁLOGO: SI_ NO                              ...</td>\n",
       "    </tr>\n",
       "  </tbody>\n",
       "</table>\n",
       "</div>"
      ],
      "text/plain": [
       "    Nº   NOMBRE DE VARIABLE  \\\n",
       "0    1  FECHA_ACTUALIZACION   \n",
       "1    2          ID_REGISTRO   \n",
       "2    3               ORIGEN   \n",
       "3    4               SECTOR   \n",
       "4    5           ENTIDAD_UM   \n",
       "5    6                 SEXO   \n",
       "6    7          ENTIDAD_NAC   \n",
       "7    8          ENTIDAD_RES   \n",
       "8    9        MUNICIPIO_RES   \n",
       "9   10        TIPO_PACIENTE   \n",
       "10  11        FECHA_INGRESO   \n",
       "11  12       FECHA_SINTOMAS   \n",
       "12  13            FECHA_DEF   \n",
       "13  14             INTUBADO   \n",
       "14  15             NEUMONIA   \n",
       "15  16                 EDAD   \n",
       "16  17         NACIONALIDAD   \n",
       "17  18             EMBARAZO   \n",
       "18  19   HABLA_LENGUA_INDIG   \n",
       "19  20             INDIGENA   \n",
       "20  21             DIABETES   \n",
       "21  22                 EPOC   \n",
       "22  23                 ASMA   \n",
       "23  24             INMUSUPR   \n",
       "24  25         HIPERTENSION   \n",
       "25  26            OTRAS_COM   \n",
       "26  27       CARDIOVASCULAR   \n",
       "27  28             OBESIDAD   \n",
       "28  29        RENAL_CRONICA   \n",
       "29  30           TABAQUISMO   \n",
       "30  31            OTRO_CASO   \n",
       "31  32         TOMA_MUESTRA   \n",
       "32  33        RESULTADO_LAB   \n",
       "33  34  CLASIFICACION_FINAL   \n",
       "34  35             MIGRANTE   \n",
       "35  36    PAIS_NACIONALIDAD   \n",
       "36  37          PAIS_ORIGEN   \n",
       "37  38                  UCI   \n",
       "\n",
       "                              DESCRIPCIÓN DE VARIABLE  \\\n",
       "0   La base de datos se alimenta diariamente, esta...   \n",
       "1                       Número identificador del caso   \n",
       "2   La vigilancia centinela se realiza a través de...   \n",
       "3   Identifica el tipo de institución del Sistema ...   \n",
       "4   Identifica la entidad donde se ubica la unidad...   \n",
       "5                    Identifica al sexo del paciente.   \n",
       "6   Identifica la entidad de nacimiento del paciente.   \n",
       "7   Identifica la entidad de residencia del paciente.   \n",
       "8   Identifica el municipio de residencia del paci...   \n",
       "9   Identifica el tipo de atención que recibió el ...   \n",
       "10  Identifica la fecha de ingreso del paciente a ...   \n",
       "11  Idenitifica la fecha en que inició la sintomat...   \n",
       "12   Identifica la fecha en que el paciente falleció.   \n",
       "13  Identifica si el paciente requirió de intubación.   \n",
       "14  Identifica si al paciente se le diagnosticó co...   \n",
       "15                   Identifica la edad del paciente.   \n",
       "16  Identifica si el paciente es mexicano o extran...   \n",
       "17         Identifica si la paciente está embarazada.   \n",
       "18   Identifica si el paciente habla lengua índigena.   \n",
       "19  Identifica si el paciente se autoidentifica co...   \n",
       "20  Identifica si el paciente tiene un diagnóstico...   \n",
       "21  Identifica si el paciente tiene un diagnóstico...   \n",
       "22  Identifica si el paciente tiene un diagnóstico...   \n",
       "23  Identifica si el paciente presenta inmunosupre...   \n",
       "24  Identifica si el paciente tiene un diagnóstico...   \n",
       "25  Identifica si el paciente tiene diagnóstico de...   \n",
       "26  Identifica si el paciente tiene un diagnóstico...   \n",
       "27  Identifica si el paciente tiene diagnóstico de...   \n",
       "28  Identifica si el paciente tiene diagnóstico de...   \n",
       "29  Identifica si el paciente tiene hábito de taba...   \n",
       "30  Identifica si el paciente tuvo contacto con al...   \n",
       "31      Identifica si al paciente se le tomó muestra.   \n",
       "32  Identifica el resultado del análisis de la mue...   \n",
       "33  Identifica si el paciente es un caso de COVID-...   \n",
       "34  Identifica si el paciente es una persona migra...   \n",
       "35           Identifica la nacionalidad del paciente.   \n",
       "36  Identifica el país del que partió el paciente ...   \n",
       "37  Identifica si el paciente requirió ingresar a ...   \n",
       "\n",
       "                                     FORMATO O FUENTE  \n",
       "0                                          AAAA-MM-DD  \n",
       "1                                              TEXTO   \n",
       "2   CATÁLOGO: ORIGEN                              ...  \n",
       "3   CATÁLOGO: SECTOR                              ...  \n",
       "4                                 CATALÓGO: ENTIDADES  \n",
       "5        CATÁLOGO: SEXO                                \n",
       "6                                 CATALÓGO: ENTIDADES  \n",
       "7                                 CATALÓGO: ENTIDADES  \n",
       "8                                CATALÓGO: MUNICIPIOS  \n",
       "9                            CATÁLOGO: TIPO_PACIENTE   \n",
       "10                                         AAAA-MM-DD  \n",
       "11                                         AAAA-MM-DD  \n",
       "12                                         AAAA-MM-DD  \n",
       "13  CATÁLOGO: SI_ NO                              ...  \n",
       "14  CATÁLOGO: SI_ NO                              ...  \n",
       "15                                   NÚMERICA EN AÑOS  \n",
       "16                            CATÁLOGO: NACIONALIDAD   \n",
       "17  CATÁLOGO: SI_ NO                              ...  \n",
       "18  CATÁLOGO: SI_ NO                              ...  \n",
       "19  CATÁLOGO: SI_ NO                              ...  \n",
       "20  CATÁLOGO: SI_ NO                              ...  \n",
       "21  CATÁLOGO: SI_ NO                              ...  \n",
       "22  CATÁLOGO: SI_ NO                              ...  \n",
       "23  CATÁLOGO: SI_ NO                              ...  \n",
       "24  CATÁLOGO: SI_ NO                              ...  \n",
       "25  CATÁLOGO: SI_ NO                              ...  \n",
       "26  CATÁLOGO: SI_ NO                              ...  \n",
       "27  CATÁLOGO: SI_ NO                              ...  \n",
       "28  CATÁLOGO: SI_ NO                              ...  \n",
       "29  CATÁLOGO: SI_ NO                              ...  \n",
       "30  CATÁLOGO: SI_ NO                              ...  \n",
       "31                                   CATÁLOGO: SI_ NO  \n",
       "32                            CATÁLOGO: RESULTADO_LAB  \n",
       "33                      CATÁLOGO: CLASIFICACION_FINAL  \n",
       "34  CATÁLOGO: SI_ NO                              ...  \n",
       "35                               TEXTO, 99= SE IGNORA  \n",
       "36                               TEXTO, 97= NO APLICA  \n",
       "37  CATÁLOGO: SI_ NO                              ...  "
      ]
     },
     "execution_count": 7,
     "metadata": {},
     "output_type": "execute_result"
    }
   ],
   "source": [
    "df_2 = pd.read_excel(\"Descriptores_071020.xlsx\")\n",
    "df_2"
   ]
  },
  {
   "cell_type": "markdown",
   "metadata": {},
   "source": [
    "## SECCION 1 :\n",
    "\n",
    "1. Analisis de datos y estadisticas que se pueden hacer del dataset"
   ]
  },
  {
   "cell_type": "code",
   "execution_count": 8,
   "metadata": {
    "scrolled": true
   },
   "outputs": [
    {
     "data": {
      "text/html": [
       "<div>\n",
       "<style scoped>\n",
       "    .dataframe tbody tr th:only-of-type {\n",
       "        vertical-align: middle;\n",
       "    }\n",
       "\n",
       "    .dataframe tbody tr th {\n",
       "        vertical-align: top;\n",
       "    }\n",
       "\n",
       "    .dataframe thead th {\n",
       "        text-align: right;\n",
       "    }\n",
       "</style>\n",
       "<table border=\"1\" class=\"dataframe\">\n",
       "  <thead>\n",
       "    <tr style=\"text-align: right;\">\n",
       "      <th></th>\n",
       "      <th>ORIGEN</th>\n",
       "      <th>SECTOR</th>\n",
       "      <th>ENTIDAD_UM</th>\n",
       "      <th>SEXO</th>\n",
       "      <th>ENTIDAD_NAC</th>\n",
       "      <th>ENTIDAD_RES</th>\n",
       "      <th>MUNICIPIO_RES</th>\n",
       "      <th>TIPO_PACIENTE</th>\n",
       "      <th>INTUBADO</th>\n",
       "      <th>NEUMONIA</th>\n",
       "      <th>...</th>\n",
       "      <th>CARDIOVASCULAR</th>\n",
       "      <th>OBESIDAD</th>\n",
       "      <th>RENAL_CRONICA</th>\n",
       "      <th>TABAQUISMO</th>\n",
       "      <th>OTRO_CASO</th>\n",
       "      <th>TOMA_MUESTRA</th>\n",
       "      <th>RESULTADO_LAB</th>\n",
       "      <th>CLASIFICACION_FINAL</th>\n",
       "      <th>MIGRANTE</th>\n",
       "      <th>UCI</th>\n",
       "    </tr>\n",
       "  </thead>\n",
       "  <tbody>\n",
       "    <tr>\n",
       "      <th>count</th>\n",
       "      <td>2.604659e+06</td>\n",
       "      <td>2.604659e+06</td>\n",
       "      <td>2.604659e+06</td>\n",
       "      <td>2.604659e+06</td>\n",
       "      <td>2.604659e+06</td>\n",
       "      <td>2.604659e+06</td>\n",
       "      <td>2.604659e+06</td>\n",
       "      <td>2.604659e+06</td>\n",
       "      <td>2.604659e+06</td>\n",
       "      <td>2.604659e+06</td>\n",
       "      <td>...</td>\n",
       "      <td>2.604659e+06</td>\n",
       "      <td>2.604659e+06</td>\n",
       "      <td>2.604659e+06</td>\n",
       "      <td>2.604659e+06</td>\n",
       "      <td>2.604659e+06</td>\n",
       "      <td>2.604659e+06</td>\n",
       "      <td>2.604659e+06</td>\n",
       "      <td>2.604659e+06</td>\n",
       "      <td>2.604659e+06</td>\n",
       "      <td>2.604659e+06</td>\n",
       "    </tr>\n",
       "    <tr>\n",
       "      <th>mean</th>\n",
       "      <td>1.653697e+00</td>\n",
       "      <td>9.305706e+00</td>\n",
       "      <td>1.497912e+01</td>\n",
       "      <td>1.485867e+00</td>\n",
       "      <td>1.593824e+01</td>\n",
       "      <td>1.521911e+01</td>\n",
       "      <td>3.572881e+01</td>\n",
       "      <td>1.152521e+00</td>\n",
       "      <td>8.273965e+01</td>\n",
       "      <td>2.574456e+00</td>\n",
       "      <td>...</td>\n",
       "      <td>2.275956e+00</td>\n",
       "      <td>2.140302e+00</td>\n",
       "      <td>2.272887e+00</td>\n",
       "      <td>2.224780e+00</td>\n",
       "      <td>1.239754e+01</td>\n",
       "      <td>1.083095e+00</td>\n",
       "      <td>9.638235e+00</td>\n",
       "      <td>5.268265e+00</td>\n",
       "      <td>9.860378e+01</td>\n",
       "      <td>8.276828e+01</td>\n",
       "    </tr>\n",
       "    <tr>\n",
       "      <th>std</th>\n",
       "      <td>4.757912e-01</td>\n",
       "      <td>3.632421e+00</td>\n",
       "      <td>8.130242e+00</td>\n",
       "      <td>4.998003e-01</td>\n",
       "      <td>9.908850e+00</td>\n",
       "      <td>8.069411e+00</td>\n",
       "      <td>4.663257e+01</td>\n",
       "      <td>3.595252e-01</td>\n",
       "      <td>3.396808e+01</td>\n",
       "      <td>8.118889e+00</td>\n",
       "      <td>...</td>\n",
       "      <td>5.301842e+00</td>\n",
       "      <td>5.230812e+00</td>\n",
       "      <td>5.261679e+00</td>\n",
       "      <td>5.427951e+00</td>\n",
       "      <td>3.073970e+01</td>\n",
       "      <td>2.760257e-01</td>\n",
       "      <td>2.630911e+01</td>\n",
       "      <td>1.899884e+00</td>\n",
       "      <td>6.195444e+00</td>\n",
       "      <td>3.392957e+01</td>\n",
       "    </tr>\n",
       "    <tr>\n",
       "      <th>min</th>\n",
       "      <td>1.000000e+00</td>\n",
       "      <td>1.000000e+00</td>\n",
       "      <td>1.000000e+00</td>\n",
       "      <td>1.000000e+00</td>\n",
       "      <td>1.000000e+00</td>\n",
       "      <td>1.000000e+00</td>\n",
       "      <td>1.000000e+00</td>\n",
       "      <td>1.000000e+00</td>\n",
       "      <td>1.000000e+00</td>\n",
       "      <td>1.000000e+00</td>\n",
       "      <td>...</td>\n",
       "      <td>1.000000e+00</td>\n",
       "      <td>1.000000e+00</td>\n",
       "      <td>1.000000e+00</td>\n",
       "      <td>1.000000e+00</td>\n",
       "      <td>1.000000e+00</td>\n",
       "      <td>1.000000e+00</td>\n",
       "      <td>1.000000e+00</td>\n",
       "      <td>1.000000e+00</td>\n",
       "      <td>1.000000e+00</td>\n",
       "      <td>1.000000e+00</td>\n",
       "    </tr>\n",
       "    <tr>\n",
       "      <th>25%</th>\n",
       "      <td>1.000000e+00</td>\n",
       "      <td>4.000000e+00</td>\n",
       "      <td>9.000000e+00</td>\n",
       "      <td>1.000000e+00</td>\n",
       "      <td>9.000000e+00</td>\n",
       "      <td>9.000000e+00</td>\n",
       "      <td>7.000000e+00</td>\n",
       "      <td>1.000000e+00</td>\n",
       "      <td>9.700000e+01</td>\n",
       "      <td>2.000000e+00</td>\n",
       "      <td>...</td>\n",
       "      <td>2.000000e+00</td>\n",
       "      <td>2.000000e+00</td>\n",
       "      <td>2.000000e+00</td>\n",
       "      <td>2.000000e+00</td>\n",
       "      <td>1.000000e+00</td>\n",
       "      <td>1.000000e+00</td>\n",
       "      <td>1.000000e+00</td>\n",
       "      <td>3.000000e+00</td>\n",
       "      <td>9.900000e+01</td>\n",
       "      <td>9.700000e+01</td>\n",
       "    </tr>\n",
       "    <tr>\n",
       "      <th>50%</th>\n",
       "      <td>2.000000e+00</td>\n",
       "      <td>1.200000e+01</td>\n",
       "      <td>1.400000e+01</td>\n",
       "      <td>1.000000e+00</td>\n",
       "      <td>1.500000e+01</td>\n",
       "      <td>1.400000e+01</td>\n",
       "      <td>2.000000e+01</td>\n",
       "      <td>1.000000e+00</td>\n",
       "      <td>9.700000e+01</td>\n",
       "      <td>2.000000e+00</td>\n",
       "      <td>...</td>\n",
       "      <td>2.000000e+00</td>\n",
       "      <td>2.000000e+00</td>\n",
       "      <td>2.000000e+00</td>\n",
       "      <td>2.000000e+00</td>\n",
       "      <td>2.000000e+00</td>\n",
       "      <td>1.000000e+00</td>\n",
       "      <td>2.000000e+00</td>\n",
       "      <td>6.000000e+00</td>\n",
       "      <td>9.900000e+01</td>\n",
       "      <td>9.700000e+01</td>\n",
       "    </tr>\n",
       "    <tr>\n",
       "      <th>75%</th>\n",
       "      <td>2.000000e+00</td>\n",
       "      <td>1.200000e+01</td>\n",
       "      <td>2.100000e+01</td>\n",
       "      <td>2.000000e+00</td>\n",
       "      <td>2.200000e+01</td>\n",
       "      <td>2.100000e+01</td>\n",
       "      <td>4.300000e+01</td>\n",
       "      <td>1.000000e+00</td>\n",
       "      <td>9.700000e+01</td>\n",
       "      <td>2.000000e+00</td>\n",
       "      <td>...</td>\n",
       "      <td>2.000000e+00</td>\n",
       "      <td>2.000000e+00</td>\n",
       "      <td>2.000000e+00</td>\n",
       "      <td>2.000000e+00</td>\n",
       "      <td>2.000000e+00</td>\n",
       "      <td>1.000000e+00</td>\n",
       "      <td>2.000000e+00</td>\n",
       "      <td>7.000000e+00</td>\n",
       "      <td>9.900000e+01</td>\n",
       "      <td>9.700000e+01</td>\n",
       "    </tr>\n",
       "    <tr>\n",
       "      <th>max</th>\n",
       "      <td>2.000000e+00</td>\n",
       "      <td>9.900000e+01</td>\n",
       "      <td>3.200000e+01</td>\n",
       "      <td>2.000000e+00</td>\n",
       "      <td>9.900000e+01</td>\n",
       "      <td>3.200000e+01</td>\n",
       "      <td>9.990000e+02</td>\n",
       "      <td>2.000000e+00</td>\n",
       "      <td>9.900000e+01</td>\n",
       "      <td>9.900000e+01</td>\n",
       "      <td>...</td>\n",
       "      <td>9.800000e+01</td>\n",
       "      <td>9.800000e+01</td>\n",
       "      <td>9.800000e+01</td>\n",
       "      <td>9.800000e+01</td>\n",
       "      <td>9.900000e+01</td>\n",
       "      <td>2.000000e+00</td>\n",
       "      <td>9.700000e+01</td>\n",
       "      <td>7.000000e+00</td>\n",
       "      <td>9.900000e+01</td>\n",
       "      <td>9.900000e+01</td>\n",
       "    </tr>\n",
       "  </tbody>\n",
       "</table>\n",
       "<p>8 rows × 31 columns</p>\n",
       "</div>"
      ],
      "text/plain": [
       "             ORIGEN        SECTOR    ENTIDAD_UM          SEXO   ENTIDAD_NAC  \\\n",
       "count  2.604659e+06  2.604659e+06  2.604659e+06  2.604659e+06  2.604659e+06   \n",
       "mean   1.653697e+00  9.305706e+00  1.497912e+01  1.485867e+00  1.593824e+01   \n",
       "std    4.757912e-01  3.632421e+00  8.130242e+00  4.998003e-01  9.908850e+00   \n",
       "min    1.000000e+00  1.000000e+00  1.000000e+00  1.000000e+00  1.000000e+00   \n",
       "25%    1.000000e+00  4.000000e+00  9.000000e+00  1.000000e+00  9.000000e+00   \n",
       "50%    2.000000e+00  1.200000e+01  1.400000e+01  1.000000e+00  1.500000e+01   \n",
       "75%    2.000000e+00  1.200000e+01  2.100000e+01  2.000000e+00  2.200000e+01   \n",
       "max    2.000000e+00  9.900000e+01  3.200000e+01  2.000000e+00  9.900000e+01   \n",
       "\n",
       "        ENTIDAD_RES  MUNICIPIO_RES  TIPO_PACIENTE      INTUBADO      NEUMONIA  \\\n",
       "count  2.604659e+06   2.604659e+06   2.604659e+06  2.604659e+06  2.604659e+06   \n",
       "mean   1.521911e+01   3.572881e+01   1.152521e+00  8.273965e+01  2.574456e+00   \n",
       "std    8.069411e+00   4.663257e+01   3.595252e-01  3.396808e+01  8.118889e+00   \n",
       "min    1.000000e+00   1.000000e+00   1.000000e+00  1.000000e+00  1.000000e+00   \n",
       "25%    9.000000e+00   7.000000e+00   1.000000e+00  9.700000e+01  2.000000e+00   \n",
       "50%    1.400000e+01   2.000000e+01   1.000000e+00  9.700000e+01  2.000000e+00   \n",
       "75%    2.100000e+01   4.300000e+01   1.000000e+00  9.700000e+01  2.000000e+00   \n",
       "max    3.200000e+01   9.990000e+02   2.000000e+00  9.900000e+01  9.900000e+01   \n",
       "\n",
       "       ...  CARDIOVASCULAR      OBESIDAD  RENAL_CRONICA    TABAQUISMO  \\\n",
       "count  ...    2.604659e+06  2.604659e+06   2.604659e+06  2.604659e+06   \n",
       "mean   ...    2.275956e+00  2.140302e+00   2.272887e+00  2.224780e+00   \n",
       "std    ...    5.301842e+00  5.230812e+00   5.261679e+00  5.427951e+00   \n",
       "min    ...    1.000000e+00  1.000000e+00   1.000000e+00  1.000000e+00   \n",
       "25%    ...    2.000000e+00  2.000000e+00   2.000000e+00  2.000000e+00   \n",
       "50%    ...    2.000000e+00  2.000000e+00   2.000000e+00  2.000000e+00   \n",
       "75%    ...    2.000000e+00  2.000000e+00   2.000000e+00  2.000000e+00   \n",
       "max    ...    9.800000e+01  9.800000e+01   9.800000e+01  9.800000e+01   \n",
       "\n",
       "          OTRO_CASO  TOMA_MUESTRA  RESULTADO_LAB  CLASIFICACION_FINAL  \\\n",
       "count  2.604659e+06  2.604659e+06   2.604659e+06         2.604659e+06   \n",
       "mean   1.239754e+01  1.083095e+00   9.638235e+00         5.268265e+00   \n",
       "std    3.073970e+01  2.760257e-01   2.630911e+01         1.899884e+00   \n",
       "min    1.000000e+00  1.000000e+00   1.000000e+00         1.000000e+00   \n",
       "25%    1.000000e+00  1.000000e+00   1.000000e+00         3.000000e+00   \n",
       "50%    2.000000e+00  1.000000e+00   2.000000e+00         6.000000e+00   \n",
       "75%    2.000000e+00  1.000000e+00   2.000000e+00         7.000000e+00   \n",
       "max    9.900000e+01  2.000000e+00   9.700000e+01         7.000000e+00   \n",
       "\n",
       "           MIGRANTE           UCI  \n",
       "count  2.604659e+06  2.604659e+06  \n",
       "mean   9.860378e+01  8.276828e+01  \n",
       "std    6.195444e+00  3.392957e+01  \n",
       "min    1.000000e+00  1.000000e+00  \n",
       "25%    9.900000e+01  9.700000e+01  \n",
       "50%    9.900000e+01  9.700000e+01  \n",
       "75%    9.900000e+01  9.700000e+01  \n",
       "max    9.900000e+01  9.900000e+01  \n",
       "\n",
       "[8 rows x 31 columns]"
      ]
     },
     "execution_count": 8,
     "metadata": {},
     "output_type": "execute_result"
    }
   ],
   "source": [
    "df.describe()"
   ]
  },
  {
   "cell_type": "code",
   "execution_count": 9,
   "metadata": {},
   "outputs": [
    {
     "data": {
      "text/plain": [
       "FECHA_ACTUALIZACION    0\n",
       "ID_REGISTRO            0\n",
       "ORIGEN                 0\n",
       "SECTOR                 0\n",
       "ENTIDAD_UM             0\n",
       "SEXO                   0\n",
       "ENTIDAD_NAC            0\n",
       "ENTIDAD_RES            0\n",
       "MUNICIPIO_RES          0\n",
       "TIPO_PACIENTE          0\n",
       "FECHA_INGRESO          0\n",
       "FECHA_SINTOMAS         0\n",
       "FECHA_DEF              0\n",
       "INTUBADO               0\n",
       "NEUMONIA               0\n",
       "EDAD                   0\n",
       "NACIONALIDAD           0\n",
       "EMBARAZO               0\n",
       "HABLA_LENGUA_INDIG     0\n",
       "INDIGENA               0\n",
       "DIABETES               0\n",
       "EPOC                   0\n",
       "ASMA                   0\n",
       "INMUSUPR               0\n",
       "HIPERTENSION           0\n",
       "OTRA_COM               0\n",
       "CARDIOVASCULAR         0\n",
       "OBESIDAD               0\n",
       "RENAL_CRONICA          0\n",
       "TABAQUISMO             0\n",
       "OTRO_CASO              0\n",
       "TOMA_MUESTRA           0\n",
       "RESULTADO_LAB          0\n",
       "CLASIFICACION_FINAL    0\n",
       "MIGRANTE               0\n",
       "PAIS_NACIONALIDAD      0\n",
       "PAIS_ORIGEN            0\n",
       "UCI                    0\n",
       "dtype: int64"
      ]
     },
     "execution_count": 9,
     "metadata": {},
     "output_type": "execute_result"
    }
   ],
   "source": [
    "\n",
    "df.isnull().sum()"
   ]
  },
  {
   "cell_type": "code",
   "execution_count": 10,
   "metadata": {
    "scrolled": true
   },
   "outputs": [
    {
     "data": {
      "text/plain": [
       "<AxesSubplot:>"
      ]
     },
     "execution_count": 10,
     "metadata": {},
     "output_type": "execute_result"
    },
    {
     "data": {
      "image/png": "[encoded data removed]",
      "text/plain": [
       "<Figure size 432x288 with 1 Axes>"
      ]
     },
     "metadata": {
      "needs_background": "light"
     },
     "output_type": "display_data"
    }
   ],
   "source": [
    "df[\"EDAD\"].hist()"
   ]
  },
  {
   "cell_type": "markdown",
   "metadata": {},
   "source": [
    "### NUMERO DE POSITIVOS\n"
   ]
  },
  {
   "cell_type": "code",
   "execution_count": 11,
   "metadata": {},
   "outputs": [
    {
     "data": {
      "text/plain": [
       "1003253"
      ]
     },
     "execution_count": 11,
     "metadata": {},
     "output_type": "execute_result"
    }
   ],
   "source": [
    "\n",
    "\n",
    "#1\tCASO DE COVID-19 CONFIRMADO POR ASOCIACIÓN CLÍNICA EPIDEMIOLÓGICA\n",
    "#2\tCASO DE COVID-19 CONFIRMADO POR COMITÉ DE  DICTAMINACIÓN\n",
    "#3\tCASO DE SARS-COV-2  CONFIRMADO POR LABORATORIO\n",
    "\n",
    "\n",
    "df[\"CLASIFICACION_FINAL\"].isin([1,2,3]).value_counts().iloc[1]"
   ]
  },
  {
   "cell_type": "markdown",
   "metadata": {},
   "source": [
    "### NUMERO DE DEFUNCIONES"
   ]
  },
  {
   "cell_type": "code",
   "execution_count": 12,
   "metadata": {},
   "outputs": [
    {
     "data": {
      "text/plain": [
       "139396"
      ]
     },
     "execution_count": 12,
     "metadata": {},
     "output_type": "execute_result"
    }
   ],
   "source": [
    "\n",
    "# Los pacientes vivos tienen fecha de defunción indeterminada 9999-99-99\n",
    "\n",
    "df[df[\"FECHA_DEF\"]!=\"9999-99-99\"][\"FECHA_DEF\"].count()\n"
   ]
  },
  {
   "cell_type": "markdown",
   "metadata": {},
   "source": [
    "### NUMERO DE POSITIVOS EN CADA ESTADO"
   ]
  },
  {
   "cell_type": "code",
   "execution_count": 13,
   "metadata": {},
   "outputs": [],
   "source": [
    "# df_ent dataframe con la lista de códigos por entidad\n",
    "df_ent=pd.read_excel(\"Catalogos_071020.xlsx\", sheet_name=\"Catálogo de ENTIDADES\")\n",
    "\n"
   ]
  },
  {
   "cell_type": "code",
   "execution_count": 14,
   "metadata": {
    "scrolled": true
   },
   "outputs": [
    {
     "data": {
      "text/html": [
       "<div>\n",
       "<style scoped>\n",
       "    .dataframe tbody tr th:only-of-type {\n",
       "        vertical-align: middle;\n",
       "    }\n",
       "\n",
       "    .dataframe tbody tr th {\n",
       "        vertical-align: top;\n",
       "    }\n",
       "\n",
       "    .dataframe thead th {\n",
       "        text-align: right;\n",
       "    }\n",
       "</style>\n",
       "<table border=\"1\" class=\"dataframe\">\n",
       "  <thead>\n",
       "    <tr style=\"text-align: right;\">\n",
       "      <th></th>\n",
       "      <th>ENTIDAD_FEDERATIVA</th>\n",
       "      <th>0</th>\n",
       "    </tr>\n",
       "  </thead>\n",
       "  <tbody>\n",
       "    <tr>\n",
       "      <th>0</th>\n",
       "      <td>AGUASCALIENTES</td>\n",
       "      <td>11209</td>\n",
       "    </tr>\n",
       "    <tr>\n",
       "      <th>1</th>\n",
       "      <td>BAJA CALIFORNIA</td>\n",
       "      <td>24465</td>\n",
       "    </tr>\n",
       "    <tr>\n",
       "      <th>2</th>\n",
       "      <td>BAJA CALIFORNIA SUR</td>\n",
       "      <td>13470</td>\n",
       "    </tr>\n",
       "    <tr>\n",
       "      <th>3</th>\n",
       "      <td>CAMPECHE</td>\n",
       "      <td>6609</td>\n",
       "    </tr>\n",
       "    <tr>\n",
       "      <th>4</th>\n",
       "      <td>COAHUILA DE ZARAGOZA</td>\n",
       "      <td>37494</td>\n",
       "    </tr>\n",
       "    <tr>\n",
       "      <th>5</th>\n",
       "      <td>COLIMA</td>\n",
       "      <td>6920</td>\n",
       "    </tr>\n",
       "    <tr>\n",
       "      <th>6</th>\n",
       "      <td>CHIAPAS</td>\n",
       "      <td>7616</td>\n",
       "    </tr>\n",
       "    <tr>\n",
       "      <th>7</th>\n",
       "      <td>CHIHUAHUA</td>\n",
       "      <td>24809</td>\n",
       "    </tr>\n",
       "    <tr>\n",
       "      <th>8</th>\n",
       "      <td>CIUDAD DE MÉXICO</td>\n",
       "      <td>179134</td>\n",
       "    </tr>\n",
       "    <tr>\n",
       "      <th>9</th>\n",
       "      <td>DURANGO</td>\n",
       "      <td>17434</td>\n",
       "    </tr>\n",
       "    <tr>\n",
       "      <th>10</th>\n",
       "      <td>GUANAJUATO</td>\n",
       "      <td>54017</td>\n",
       "    </tr>\n",
       "    <tr>\n",
       "      <th>11</th>\n",
       "      <td>GUERRERO</td>\n",
       "      <td>22911</td>\n",
       "    </tr>\n",
       "    <tr>\n",
       "      <th>12</th>\n",
       "      <td>HIDALGO</td>\n",
       "      <td>17179</td>\n",
       "    </tr>\n",
       "    <tr>\n",
       "      <th>13</th>\n",
       "      <td>JALISCO</td>\n",
       "      <td>37341</td>\n",
       "    </tr>\n",
       "    <tr>\n",
       "      <th>14</th>\n",
       "      <td>MÉXICO</td>\n",
       "      <td>103240</td>\n",
       "    </tr>\n",
       "    <tr>\n",
       "      <th>15</th>\n",
       "      <td>MICHOACÁN DE OCAMPO</td>\n",
       "      <td>26677</td>\n",
       "    </tr>\n",
       "    <tr>\n",
       "      <th>16</th>\n",
       "      <td>MORELOS</td>\n",
       "      <td>7306</td>\n",
       "    </tr>\n",
       "    <tr>\n",
       "      <th>17</th>\n",
       "      <td>NAYARIT</td>\n",
       "      <td>6935</td>\n",
       "    </tr>\n",
       "    <tr>\n",
       "      <th>18</th>\n",
       "      <td>NUEVO LEÓN</td>\n",
       "      <td>59841</td>\n",
       "    </tr>\n",
       "    <tr>\n",
       "      <th>19</th>\n",
       "      <td>OAXACA</td>\n",
       "      <td>22882</td>\n",
       "    </tr>\n",
       "    <tr>\n",
       "      <th>20</th>\n",
       "      <td>PUEBLA</td>\n",
       "      <td>37575</td>\n",
       "    </tr>\n",
       "    <tr>\n",
       "      <th>21</th>\n",
       "      <td>QUERÉTARO</td>\n",
       "      <td>17178</td>\n",
       "    </tr>\n",
       "    <tr>\n",
       "      <th>22</th>\n",
       "      <td>QUINTANA ROO</td>\n",
       "      <td>13885</td>\n",
       "    </tr>\n",
       "    <tr>\n",
       "      <th>23</th>\n",
       "      <td>SAN LUIS POTOSÍ</td>\n",
       "      <td>31577</td>\n",
       "    </tr>\n",
       "    <tr>\n",
       "      <th>24</th>\n",
       "      <td>SINALOA</td>\n",
       "      <td>22966</td>\n",
       "    </tr>\n",
       "    <tr>\n",
       "      <th>25</th>\n",
       "      <td>SONORA</td>\n",
       "      <td>40329</td>\n",
       "    </tr>\n",
       "    <tr>\n",
       "      <th>26</th>\n",
       "      <td>TABASCO</td>\n",
       "      <td>35602</td>\n",
       "    </tr>\n",
       "    <tr>\n",
       "      <th>27</th>\n",
       "      <td>TAMAULIPAS</td>\n",
       "      <td>33653</td>\n",
       "    </tr>\n",
       "    <tr>\n",
       "      <th>28</th>\n",
       "      <td>TLAXCALA</td>\n",
       "      <td>8768</td>\n",
       "    </tr>\n",
       "    <tr>\n",
       "      <th>29</th>\n",
       "      <td>VERACRUZ DE IGNACIO DE LA LLAVE</td>\n",
       "      <td>38289</td>\n",
       "    </tr>\n",
       "    <tr>\n",
       "      <th>30</th>\n",
       "      <td>YUCATÁN</td>\n",
       "      <td>22611</td>\n",
       "    </tr>\n",
       "    <tr>\n",
       "      <th>31</th>\n",
       "      <td>ZACATECAS</td>\n",
       "      <td>13331</td>\n",
       "    </tr>\n",
       "  </tbody>\n",
       "</table>\n",
       "</div>"
      ],
      "text/plain": [
       "                 ENTIDAD_FEDERATIVA       0\n",
       "0                    AGUASCALIENTES   11209\n",
       "1                   BAJA CALIFORNIA   24465\n",
       "2               BAJA CALIFORNIA SUR   13470\n",
       "3                          CAMPECHE    6609\n",
       "4              COAHUILA DE ZARAGOZA   37494\n",
       "5                            COLIMA    6920\n",
       "6                           CHIAPAS    7616\n",
       "7                         CHIHUAHUA   24809\n",
       "8                  CIUDAD DE MÉXICO  179134\n",
       "9                           DURANGO   17434\n",
       "10                       GUANAJUATO   54017\n",
       "11                         GUERRERO   22911\n",
       "12                          HIDALGO   17179\n",
       "13                          JALISCO   37341\n",
       "14                           MÉXICO  103240\n",
       "15              MICHOACÁN DE OCAMPO   26677\n",
       "16                          MORELOS    7306\n",
       "17                          NAYARIT    6935\n",
       "18                       NUEVO LEÓN   59841\n",
       "19                           OAXACA   22882\n",
       "20                           PUEBLA   37575\n",
       "21                        QUERÉTARO   17178\n",
       "22                     QUINTANA ROO   13885\n",
       "23                  SAN LUIS POTOSÍ   31577\n",
       "24                          SINALOA   22966\n",
       "25                           SONORA   40329\n",
       "26                          TABASCO   35602\n",
       "27                       TAMAULIPAS   33653\n",
       "28                         TLAXCALA    8768\n",
       "29  VERACRUZ DE IGNACIO DE LA LLAVE   38289\n",
       "30                          YUCATÁN   22611\n",
       "31                        ZACATECAS   13331"
      ]
     },
     "execution_count": 14,
     "metadata": {},
     "output_type": "execute_result"
    }
   ],
   "source": [
    "#df_pos_ent dataframe con la lista de positivos por entidad\n",
    "df_pos_ent=df[df[\"CLASIFICACION_FINAL\"].isin([1,2,3])].groupby(\"ENTIDAD_RES\").size()\n",
    "df_pos_ent=pd.DataFrame(df_pos_ent)\n",
    "df_pos_ent.reset_index(inplace=True)\n",
    "\n",
    "df_result=pd.merge(left=df_ent, right=df_pos_ent, left_on=\"CLAVE_ENTIDAD\", right_on=\"ENTIDAD_RES\", how=\"inner\")\n",
    "df_result[[\"ENTIDAD_FEDERATIVA\", 0]]"
   ]
  },
  {
   "cell_type": "markdown",
   "metadata": {},
   "source": [
    "### 3 ESTADOS CON MAYOR NUMERO DE POSITIVOS"
   ]
  },
  {
   "cell_type": "code",
   "execution_count": 15,
   "metadata": {
    "scrolled": true
   },
   "outputs": [
    {
     "data": {
      "text/html": [
       "<div>\n",
       "<style scoped>\n",
       "    .dataframe tbody tr th:only-of-type {\n",
       "        vertical-align: middle;\n",
       "    }\n",
       "\n",
       "    .dataframe tbody tr th {\n",
       "        vertical-align: top;\n",
       "    }\n",
       "\n",
       "    .dataframe thead th {\n",
       "        text-align: right;\n",
       "    }\n",
       "</style>\n",
       "<table border=\"1\" class=\"dataframe\">\n",
       "  <thead>\n",
       "    <tr style=\"text-align: right;\">\n",
       "      <th></th>\n",
       "      <th>ENTIDAD_FEDERATIVA</th>\n",
       "      <th>0</th>\n",
       "    </tr>\n",
       "  </thead>\n",
       "  <tbody>\n",
       "    <tr>\n",
       "      <th>8</th>\n",
       "      <td>CIUDAD DE MÉXICO</td>\n",
       "      <td>179134</td>\n",
       "    </tr>\n",
       "    <tr>\n",
       "      <th>14</th>\n",
       "      <td>MÉXICO</td>\n",
       "      <td>103240</td>\n",
       "    </tr>\n",
       "    <tr>\n",
       "      <th>18</th>\n",
       "      <td>NUEVO LEÓN</td>\n",
       "      <td>59841</td>\n",
       "    </tr>\n",
       "  </tbody>\n",
       "</table>\n",
       "</div>"
      ],
      "text/plain": [
       "   ENTIDAD_FEDERATIVA       0\n",
       "8    CIUDAD DE MÉXICO  179134\n",
       "14             MÉXICO  103240\n",
       "18         NUEVO LEÓN   59841"
      ]
     },
     "execution_count": 15,
     "metadata": {},
     "output_type": "execute_result"
    }
   ],
   "source": [
    "df_result[[\"ENTIDAD_FEDERATIVA\", 0]].sort_values(0, ascending=False).head(3)"
   ]
  },
  {
   "cell_type": "markdown",
   "metadata": {},
   "source": [
    "### EDAD PROMEDIO DE LOS POSITIVOS"
   ]
  },
  {
   "cell_type": "code",
   "execution_count": 16,
   "metadata": {},
   "outputs": [
    {
     "data": {
      "text/plain": [
       "44.323492678317436"
      ]
     },
     "execution_count": 16,
     "metadata": {},
     "output_type": "execute_result"
    }
   ],
   "source": [
    "df[df[\"CLASIFICACION_FINAL\"].isin([1,2,3])][\"EDAD\"].mean()"
   ]
  },
  {
   "cell_type": "markdown",
   "metadata": {},
   "source": [
    "### EDAD PROMEDIO DE LOS QUE HAN FALLECIDO"
   ]
  },
  {
   "cell_type": "code",
   "execution_count": 17,
   "metadata": {},
   "outputs": [
    {
     "data": {
      "text/plain": [
       "62.273185744210735"
      ]
     },
     "execution_count": 17,
     "metadata": {},
     "output_type": "execute_result"
    }
   ],
   "source": [
    "df[df[\"FECHA_DEF\"]!=\"9999-99-99\"][\"EDAD\"].mean()"
   ]
  },
  {
   "cell_type": "markdown",
   "metadata": {},
   "source": [
    "### TIEMPO ENTRE SINTOMA Y DEFUNCIÓN DE LOS FALLECIDOS"
   ]
  },
  {
   "cell_type": "code",
   "execution_count": 18,
   "metadata": {},
   "outputs": [
    {
     "name": "stderr",
     "output_type": "stream",
     "text": [
      "C:\\Users\\leona\\AppData\\Local\\Temp/ipykernel_16416/787710329.py:3: SettingWithCopyWarning: \n",
      "A value is trying to be set on a copy of a slice from a DataFrame.\n",
      "Try using .loc[row_indexer,col_indexer] = value instead\n",
      "\n",
      "See the caveats in the documentation: https://pandas.pydata.org/pandas-docs/stable/user_guide/indexing.html#returning-a-view-versus-a-copy\n",
      "  df_muertos[\"FECHA_DEF\"]=pd.to_datetime(df_muertos[\"FECHA_DEF\"])\n",
      "C:\\Users\\leona\\AppData\\Local\\Temp/ipykernel_16416/787710329.py:4: SettingWithCopyWarning: \n",
      "A value is trying to be set on a copy of a slice from a DataFrame.\n",
      "Try using .loc[row_indexer,col_indexer] = value instead\n",
      "\n",
      "See the caveats in the documentation: https://pandas.pydata.org/pandas-docs/stable/user_guide/indexing.html#returning-a-view-versus-a-copy\n",
      "  df_muertos[\"FECHA_SINTOMAS\"]=pd.to_datetime(df_muertos[\"FECHA_SINTOMAS\"])\n",
      "C:\\Users\\leona\\AppData\\Local\\Temp/ipykernel_16416/787710329.py:5: SettingWithCopyWarning: \n",
      "A value is trying to be set on a copy of a slice from a DataFrame.\n",
      "Try using .loc[row_indexer,col_indexer] = value instead\n",
      "\n",
      "See the caveats in the documentation: https://pandas.pydata.org/pandas-docs/stable/user_guide/indexing.html#returning-a-view-versus-a-copy\n",
      "  df_muertos[\"tiempo\"]=df_muertos[\"FECHA_DEF\"]-df_muertos[\"FECHA_SINTOMAS\"]\n"
     ]
    },
    {
     "data": {
      "text/plain": [
       "Timedelta('12 days 11:02:43.734970874')"
      ]
     },
     "execution_count": 18,
     "metadata": {},
     "output_type": "execute_result"
    }
   ],
   "source": [
    "import datetime as da\n",
    "df_muertos = df[df[\"FECHA_DEF\"]!=\"9999-99-99\"]\n",
    "df_muertos[\"FECHA_DEF\"]=pd.to_datetime(df_muertos[\"FECHA_DEF\"])\n",
    "df_muertos[\"FECHA_SINTOMAS\"]=pd.to_datetime(df_muertos[\"FECHA_SINTOMAS\"])\n",
    "df_muertos[\"tiempo\"]=df_muertos[\"FECHA_DEF\"]-df_muertos[\"FECHA_SINTOMAS\"]\n",
    "df_muertos[\"tiempo\"].mean()"
   ]
  },
  {
   "cell_type": "markdown",
   "metadata": {},
   "source": [
    "### ¿Cuál es la enfermedad con más prevalencia en los positivos y en los que han fallecido?"
   ]
  },
  {
   "cell_type": "code",
   "execution_count": 19,
   "metadata": {},
   "outputs": [],
   "source": [
    "df_pos=df[df[\"CLASIFICACION_FINAL\"].isin([1,2,3])]"
   ]
  },
  {
   "cell_type": "code",
   "execution_count": 20,
   "metadata": {},
   "outputs": [],
   "source": [
    "df.columns\n",
    "enfermedades=['NEUMONIA', 'DIABETES', 'EPOC', 'ASMA', 'INMUSUPR', 'HIPERTENSION', 'OTRA_COM',\n",
    "       'CARDIOVASCULAR', 'OBESIDAD', 'RENAL_CRONICA', 'TABAQUISMO']"
   ]
  },
  {
   "cell_type": "code",
   "execution_count": 21,
   "metadata": {},
   "outputs": [
    {
     "data": {
      "text/plain": [
       "{'NEUMONIA': 168986,\n",
       " 'DIABETES': 147867,\n",
       " 'EPOC': 13464,\n",
       " 'ASMA': 25135,\n",
       " 'INMUSUPR': 10230,\n",
       " 'HIPERTENSION': 188107,\n",
       " 'OTRA_COM': 22737,\n",
       " 'CARDIOVASCULAR': 18672,\n",
       " 'OBESIDAD': 171303,\n",
       " 'RENAL_CRONICA': 17989,\n",
       " 'TABAQUISMO': 73385}"
      ]
     },
     "execution_count": 21,
     "metadata": {},
     "output_type": "execute_result"
    }
   ],
   "source": [
    "dicc=dict()\n",
    "\n",
    "for i in enfermedades:\n",
    "    dicc.update({i:df_pos[i].value_counts()[1]})\n",
    "dicc\n",
    "#la enfermedad más común en positivos es hipertensión"
   ]
  },
  {
   "cell_type": "code",
   "execution_count": 22,
   "metadata": {
    "scrolled": true
   },
   "outputs": [
    {
     "data": {
      "text/plain": [
       "{'NEUMONIA': 96732,\n",
       " 'DIABETES': 53143,\n",
       " 'EPOC': 7302,\n",
       " 'ASMA': 2625,\n",
       " 'INMUSUPR': 4368,\n",
       " 'HIPERTENSION': 61973,\n",
       " 'OTRA_COM': 8823,\n",
       " 'CARDIOVASCULAR': 8183,\n",
       " 'OBESIDAD': 30770,\n",
       " 'RENAL_CRONICA': 11508,\n",
       " 'TABAQUISMO': 11687}"
      ]
     },
     "execution_count": 22,
     "metadata": {},
     "output_type": "execute_result"
    }
   ],
   "source": [
    "dicc=dict()\n",
    "\n",
    "for i in enfermedades:\n",
    "    dicc.update({i:df_muertos[i].value_counts()[1]})\n",
    "dicc    \n"
   ]
  },
  {
   "cell_type": "markdown",
   "metadata": {},
   "source": [
    "### Gráfica de barras del número de hombres y mujeres"
   ]
  },
  {
   "cell_type": "code",
   "execution_count": 23,
   "metadata": {},
   "outputs": [
    {
     "data": {
      "image/png": "[encoded data removed]",
      "text/plain": [
       "<Figure size 432x288 with 1 Axes>"
      ]
     },
     "metadata": {
      "needs_background": "light"
     },
     "output_type": "display_data"
    }
   ],
   "source": [
    "etiquetas=[\"Masculino\", \"Femenino\"] #eje x\n",
    "valores= df[\"SEXO\"].value_counts() #valores de y\n",
    "plt.bar(etiquetas,valores, color=[\"blue\",\"magenta\"]) #lista con los colores de cada barra\n",
    "plt.show()"
   ]
  },
  {
   "cell_type": "code",
   "execution_count": 24,
   "metadata": {
    "scrolled": true
   },
   "outputs": [
    {
     "data": {
      "text/plain": [
       "1    1339140\n",
       "2    1265519\n",
       "Name: SEXO, dtype: int64"
      ]
     },
     "execution_count": 24,
     "metadata": {},
     "output_type": "execute_result"
    }
   ],
   "source": [
    "df[\"SEXO\"].value_counts()"
   ]
  },
  {
   "cell_type": "markdown",
   "metadata": {},
   "source": [
    "### Grafica de barras de los positivos y no positivos"
   ]
  },
  {
   "cell_type": "code",
   "execution_count": 25,
   "metadata": {},
   "outputs": [
    {
     "name": "stderr",
     "output_type": "stream",
     "text": [
      "C:\\Users\\leona\\anaconda3\\lib\\site-packages\\seaborn\\_decorators.py:36: FutureWarning: Pass the following variable as a keyword arg: x. From version 0.12, the only valid positional argument will be `data`, and passing other arguments without an explicit keyword will result in an error or misinterpretation.\n",
      "  warnings.warn(\n"
     ]
    },
    {
     "data": {
      "image/png": "[encoded data removed]",
      "text/plain": [
       "<Figure size 432x288 with 1 Axes>"
      ]
     },
     "metadata": {
      "needs_background": "light"
     },
     "output_type": "display_data"
    }
   ],
   "source": [
    "#2.\t\n",
    "import matplotlib.pyplot as plt\n",
    "import seaborn as sns\n",
    "\n",
    "df[\"covid+\"] = df[\"CLASIFICACION_FINAL\"].map(lambda x: 1 if x in ([1,2,3]) else 0 )\n",
    "\n",
    "ig, ax = plt.subplots(figsize=(6,4))\n",
    "sns.countplot(df['covid+'] , color=[0.952, 0.407, 0.500])#El color es RGB normalizado\n",
    "plt.show()\n",
    "\n"
   ]
  },
  {
   "cell_type": "markdown",
   "metadata": {},
   "source": [
    "### Gráfica de barras del número de positivos por estado"
   ]
  },
  {
   "cell_type": "code",
   "execution_count": 26,
   "metadata": {},
   "outputs": [
    {
     "name": "stderr",
     "output_type": "stream",
     "text": [
      "C:\\Users\\leona\\anaconda3\\lib\\site-packages\\seaborn\\_decorators.py:36: FutureWarning: Pass the following variables as keyword args: x, y. From version 0.12, the only valid positional argument will be `data`, and passing other arguments without an explicit keyword will result in an error or misinterpretation.\n",
      "  warnings.warn(\n"
     ]
    },
    {
     "data": {
      "image/png": "[encoded data removed]",
      "text/plain": [
       "<Figure size 1080x2160 with 1 Axes>"
      ]
     },
     "metadata": {
      "needs_background": "light"
     },
     "output_type": "display_data"
    }
   ],
   "source": [
    "\n",
    "plt.figure(figsize=(15,30))\n",
    "sns.barplot(df_result[0], df_result[\"ENTIDAD_FEDERATIVA\"]) \n",
    "plt.show()"
   ]
  },
  {
   "cell_type": "markdown",
   "metadata": {},
   "source": [
    "### Gráfica de barras del número de positivos por la columna SECTOR"
   ]
  },
  {
   "cell_type": "code",
   "execution_count": 27,
   "metadata": {},
   "outputs": [
    {
     "name": "stderr",
     "output_type": "stream",
     "text": [
      "C:\\Users\\leona\\anaconda3\\lib\\site-packages\\seaborn\\_decorators.py:36: FutureWarning: Pass the following variables as keyword args: x, y. From version 0.12, the only valid positional argument will be `data`, and passing other arguments without an explicit keyword will result in an error or misinterpretation.\n",
      "  warnings.warn(\n"
     ]
    },
    {
     "data": {
      "image/png": "[encoded data removed]",
      "text/plain": [
       "<Figure size 432x288 with 1 Axes>"
      ]
     },
     "metadata": {
      "needs_background": "light"
     },
     "output_type": "display_data"
    }
   ],
   "source": [
    "# df_ent dataframe con la lista de códigos por entidad\n",
    "df_sect=pd.read_excel(\"Catalogos_071020.xlsx\", sheet_name=\"Catálogo SECTOR\")\n",
    "\n",
    "df_pos_sect=df[df[\"CLASIFICACION_FINAL\"].isin([1,2,3])].groupby(\"SECTOR\").size()\n",
    "df_pos_sect=pd.DataFrame(df_pos_sect)\n",
    "df_pos_sect.reset_index(inplace=True)\n",
    "\n",
    "df_result3=pd.merge(left=df_sect, right=df_pos_sect, left_on=\"CLAVE\", right_on=\"SECTOR\", how=\"inner\")\n",
    "\n",
    "\n",
    "# plt.figure(figsize=(15,30))\n",
    "sns.barplot(df_result3[0], df_result3[\"DESCRIPCIÓN\"]) \n",
    "plt.show()"
   ]
  },
  {
   "cell_type": "markdown",
   "metadata": {},
   "source": [
    "### Histograma de la edad de los positivos"
   ]
  },
  {
   "cell_type": "code",
   "execution_count": 28,
   "metadata": {},
   "outputs": [
    {
     "data": {
      "text/plain": [
       "<AxesSubplot:>"
      ]
     },
     "execution_count": 28,
     "metadata": {},
     "output_type": "execute_result"
    },
    {
     "data": {
      "image/png": "[encoded data removed]",
      "text/plain": [
       "<Figure size 432x288 with 1 Axes>"
      ]
     },
     "metadata": {
      "needs_background": "light"
     },
     "output_type": "display_data"
    }
   ],
   "source": [
    "df[df[\"CLASIFICACION_FINAL\"].isin([1,2,3])][\"EDAD\"].hist() #positivos\n",
    "#La mayoria de los patrones que han dado positivo se encuentra en el rango 30-60\n",
    "#Las edades en este caso siguen una distribución casi normaldonde la mayoria de los individuos se \n",
    "#encuentran en el medio(30-60 años)"
   ]
  },
  {
   "cell_type": "markdown",
   "metadata": {},
   "source": [
    "### Histograma de la edad de los no positivos\n"
   ]
  },
  {
   "cell_type": "code",
   "execution_count": 29,
   "metadata": {},
   "outputs": [
    {
     "data": {
      "text/plain": [
       "<AxesSubplot:>"
      ]
     },
     "execution_count": 29,
     "metadata": {},
     "output_type": "execute_result"
    },
    {
     "data": {
      "image/png": "[encoded data removed]",
      "text/plain": [
       "<Figure size 432x288 with 1 Axes>"
      ]
     },
     "metadata": {
      "needs_background": "light"
     },
     "output_type": "display_data"
    }
   ],
   "source": [
    "df[~df[\"CLASIFICACION_FINAL\"].isin([1,2,3])][\"EDAD\"].hist() #No positivos\n",
    "#La mayoria de los patrones que no han dado positivo o que no se sabe se encuentra en el rango 30-50\n",
    "#Las edades en este caso siguen una distribución casi normaldonde la mayoria de los individuos se \n",
    "#encuentran en el medio(30-50 años)"
   ]
  },
  {
   "cell_type": "markdown",
   "metadata": {},
   "source": [
    "## PREPROCESAMIENTO DE DATOS\n",
    "\n",
    "\n",
    "\n",
    "Nuestro objetivo es predecir la probabilidad de defunción de un patrón nuevo con Coronavirus\n",
    "\n",
    "Eliminamos los registros con Diagnóstico 4,5,6,7\n",
    "\n",
    "Eliminamos columnas innecesarias: ID_REGISTRO, ENTIDAD_NAC, MIGRANTE (+90% no especificado), ENTIDAD_RES,MUNICIPIO_RES, NACIONALIDAD (99% mex.), INDIGENA, HABLA_LENGUA_INDIG, TOMA_MUESTRA, RESULTADO_LAB, PAIS_NACIONALIDAD\n",
    "PAIS_ORIGEN, ENTIDAD_UM"
   ]
  },
  {
   "cell_type": "code",
   "execution_count": 30,
   "metadata": {},
   "outputs": [
    {
     "data": {
      "text/plain": [
       "1003253"
      ]
     },
     "execution_count": 30,
     "metadata": {},
     "output_type": "execute_result"
    }
   ],
   "source": [
    "len(df[df[\"CLASIFICACION_FINAL\"].isin([1,2,3])])"
   ]
  },
  {
   "cell_type": "code",
   "execution_count": 31,
   "metadata": {},
   "outputs": [
    {
     "data": {
      "text/plain": [
       "1222753"
      ]
     },
     "execution_count": 31,
     "metadata": {},
     "output_type": "execute_result"
    }
   ],
   "source": [
    "len(df[df[\"CLASIFICACION_FINAL\"]==7])"
   ]
  },
  {
   "cell_type": "code",
   "execution_count": 32,
   "metadata": {},
   "outputs": [
    {
     "data": {
      "text/plain": [
       "2604659"
      ]
     },
     "execution_count": 32,
     "metadata": {},
     "output_type": "execute_result"
    }
   ],
   "source": [
    "len(df)"
   ]
  },
  {
   "cell_type": "code",
   "execution_count": 33,
   "metadata": {},
   "outputs": [
    {
     "data": {
      "text/plain": [
       "FECHA_ACTUALIZACION    2020-11-14\n",
       "ID_REGISTRO                1468a5\n",
       "ORIGEN                          1\n",
       "SECTOR                          4\n",
       "ENTIDAD_UM                      5\n",
       "SEXO                            1\n",
       "ENTIDAD_NAC                    15\n",
       "ENTIDAD_RES                     5\n",
       "MUNICIPIO_RES                  18\n",
       "TIPO_PACIENTE                   1\n",
       "FECHA_INGRESO          2020-04-02\n",
       "FECHA_SINTOMAS         2020-03-27\n",
       "FECHA_DEF              9999-99-99\n",
       "INTUBADO                       97\n",
       "NEUMONIA                        2\n",
       "EDAD                           47\n",
       "NACIONALIDAD                    1\n",
       "EMBARAZO                        2\n",
       "HABLA_LENGUA_INDIG              2\n",
       "INDIGENA                        2\n",
       "DIABETES                        2\n",
       "EPOC                            2\n",
       "ASMA                            2\n",
       "INMUSUPR                        2\n",
       "HIPERTENSION                    2\n",
       "OTRA_COM                        2\n",
       "CARDIOVASCULAR                  2\n",
       "OBESIDAD                        2\n",
       "RENAL_CRONICA                   2\n",
       "TABAQUISMO                      2\n",
       "OTRO_CASO                       1\n",
       "TOMA_MUESTRA                    1\n",
       "RESULTADO_LAB                   1\n",
       "CLASIFICACION_FINAL             3\n",
       "MIGRANTE                       99\n",
       "PAIS_NACIONALIDAD         MÃ©xico\n",
       "PAIS_ORIGEN                    97\n",
       "UCI                            97\n",
       "covid+                          1\n",
       "Name: 1, dtype: object"
      ]
     },
     "execution_count": 33,
     "metadata": {},
     "output_type": "execute_result"
    }
   ],
   "source": [
    "df.iloc[1,:]"
   ]
  },
  {
   "cell_type": "code",
   "execution_count": 34,
   "metadata": {},
   "outputs": [
    {
     "data": {
      "text/plain": [
       "array([21,  5,  9, 15,  3,  6, 14, 23, 11, 26, 10, 29,  2, 16,  1, 12, 32,\n",
       "        8, 30, 25, 22, 31, 13, 24, 27, 19,  7, 17,  4, 28, 20, 18],\n",
       "      dtype=int64)"
      ]
     },
     "execution_count": 34,
     "metadata": {},
     "output_type": "execute_result"
    }
   ],
   "source": [
    "df[\"ENTIDAD_UM\"].unique()"
   ]
  },
  {
   "cell_type": "code",
   "execution_count": 35,
   "metadata": {},
   "outputs": [],
   "source": [
    "df[\"FECHA_INGRESO\"]=pd.to_datetime(df[\"FECHA_INGRESO\"])\n",
    "df[\"FECHA_SINTOMAS\"]=pd.to_datetime(df[\"FECHA_SINTOMAS\"])"
   ]
  },
  {
   "cell_type": "code",
   "execution_count": 36,
   "metadata": {},
   "outputs": [],
   "source": [
    "df[\"TIEMPO_SINTOMAS\"]=df[\"FECHA_INGRESO\"]-df[\"FECHA_SINTOMAS\"]"
   ]
  },
  {
   "cell_type": "code",
   "execution_count": 37,
   "metadata": {},
   "outputs": [],
   "source": [
    "df=df[df[\"CLASIFICACION_FINAL\"].isin([1,2,3])]"
   ]
  },
  {
   "cell_type": "code",
   "execution_count": 38,
   "metadata": {},
   "outputs": [],
   "source": [
    "df[\"FALLECIDO\"]=df[\"FECHA_DEF\"].map(lambda x: 0 if x==\"9999-99-99\" else 1)"
   ]
  },
  {
   "cell_type": "code",
   "execution_count": 39,
   "metadata": {},
   "outputs": [],
   "source": [
    "df=df.drop([\"ID_REGISTRO\", \"ENTIDAD_NAC\", \"MIGRANTE\", \"ENTIDAD_RES\",\n",
    "\"MUNICIPIO_RES\", \"NACIONALIDAD\", \"INDIGENA\", \"HABLA_LENGUA_INDIG\", \"TOMA_MUESTRA\", \n",
    "            \"RESULTADO_LAB\", \"PAIS_NACIONALIDAD\", \"PAIS_ORIGEN\", \"ENTIDAD_UM\", \"FECHA_DEF\",\n",
    "           \"FECHA_ACTUALIZACION\", \"FECHA_INGRESO\", \"FECHA_SINTOMAS\", \"FECHA_DEF\"], axis=1)"
   ]
  },
  {
   "cell_type": "code",
   "execution_count": 40,
   "metadata": {},
   "outputs": [],
   "source": [
    "df2=df.copy()"
   ]
  },
  {
   "cell_type": "code",
   "execution_count": 41,
   "metadata": {},
   "outputs": [
    {
     "data": {
      "text/html": [
       "<div>\n",
       "<style scoped>\n",
       "    .dataframe tbody tr th:only-of-type {\n",
       "        vertical-align: middle;\n",
       "    }\n",
       "\n",
       "    .dataframe tbody tr th {\n",
       "        vertical-align: top;\n",
       "    }\n",
       "\n",
       "    .dataframe thead th {\n",
       "        text-align: right;\n",
       "    }\n",
       "</style>\n",
       "<table border=\"1\" class=\"dataframe\">\n",
       "  <thead>\n",
       "    <tr style=\"text-align: right;\">\n",
       "      <th></th>\n",
       "      <th>ORIGEN</th>\n",
       "      <th>SECTOR</th>\n",
       "      <th>SEXO</th>\n",
       "      <th>TIPO_PACIENTE</th>\n",
       "      <th>INTUBADO</th>\n",
       "      <th>NEUMONIA</th>\n",
       "      <th>EDAD</th>\n",
       "      <th>EMBARAZO</th>\n",
       "      <th>DIABETES</th>\n",
       "      <th>EPOC</th>\n",
       "      <th>...</th>\n",
       "      <th>CARDIOVASCULAR</th>\n",
       "      <th>OBESIDAD</th>\n",
       "      <th>RENAL_CRONICA</th>\n",
       "      <th>TABAQUISMO</th>\n",
       "      <th>OTRO_CASO</th>\n",
       "      <th>CLASIFICACION_FINAL</th>\n",
       "      <th>UCI</th>\n",
       "      <th>covid+</th>\n",
       "      <th>TIEMPO_SINTOMAS</th>\n",
       "      <th>FALLECIDO</th>\n",
       "    </tr>\n",
       "  </thead>\n",
       "  <tbody>\n",
       "    <tr>\n",
       "      <th>0</th>\n",
       "      <td>2</td>\n",
       "      <td>9</td>\n",
       "      <td>2</td>\n",
       "      <td>1</td>\n",
       "      <td>97</td>\n",
       "      <td>2</td>\n",
       "      <td>75</td>\n",
       "      <td>97</td>\n",
       "      <td>1</td>\n",
       "      <td>2</td>\n",
       "      <td>...</td>\n",
       "      <td>1</td>\n",
       "      <td>2</td>\n",
       "      <td>2</td>\n",
       "      <td>2</td>\n",
       "      <td>2</td>\n",
       "      <td>3</td>\n",
       "      <td>97</td>\n",
       "      <td>1</td>\n",
       "      <td>6 days</td>\n",
       "      <td>0</td>\n",
       "    </tr>\n",
       "    <tr>\n",
       "      <th>1</th>\n",
       "      <td>1</td>\n",
       "      <td>4</td>\n",
       "      <td>1</td>\n",
       "      <td>1</td>\n",
       "      <td>97</td>\n",
       "      <td>2</td>\n",
       "      <td>47</td>\n",
       "      <td>2</td>\n",
       "      <td>2</td>\n",
       "      <td>2</td>\n",
       "      <td>...</td>\n",
       "      <td>2</td>\n",
       "      <td>2</td>\n",
       "      <td>2</td>\n",
       "      <td>2</td>\n",
       "      <td>1</td>\n",
       "      <td>3</td>\n",
       "      <td>97</td>\n",
       "      <td>1</td>\n",
       "      <td>6 days</td>\n",
       "      <td>0</td>\n",
       "    </tr>\n",
       "    <tr>\n",
       "      <th>2</th>\n",
       "      <td>2</td>\n",
       "      <td>4</td>\n",
       "      <td>2</td>\n",
       "      <td>2</td>\n",
       "      <td>2</td>\n",
       "      <td>1</td>\n",
       "      <td>58</td>\n",
       "      <td>97</td>\n",
       "      <td>1</td>\n",
       "      <td>1</td>\n",
       "      <td>...</td>\n",
       "      <td>2</td>\n",
       "      <td>2</td>\n",
       "      <td>1</td>\n",
       "      <td>2</td>\n",
       "      <td>99</td>\n",
       "      <td>3</td>\n",
       "      <td>1</td>\n",
       "      <td>1</td>\n",
       "      <td>0 days</td>\n",
       "      <td>1</td>\n",
       "    </tr>\n",
       "    <tr>\n",
       "      <th>3</th>\n",
       "      <td>1</td>\n",
       "      <td>4</td>\n",
       "      <td>2</td>\n",
       "      <td>2</td>\n",
       "      <td>2</td>\n",
       "      <td>1</td>\n",
       "      <td>49</td>\n",
       "      <td>97</td>\n",
       "      <td>2</td>\n",
       "      <td>2</td>\n",
       "      <td>...</td>\n",
       "      <td>2</td>\n",
       "      <td>2</td>\n",
       "      <td>2</td>\n",
       "      <td>2</td>\n",
       "      <td>99</td>\n",
       "      <td>3</td>\n",
       "      <td>2</td>\n",
       "      <td>1</td>\n",
       "      <td>0 days</td>\n",
       "      <td>1</td>\n",
       "    </tr>\n",
       "    <tr>\n",
       "      <th>4</th>\n",
       "      <td>1</td>\n",
       "      <td>12</td>\n",
       "      <td>1</td>\n",
       "      <td>1</td>\n",
       "      <td>97</td>\n",
       "      <td>2</td>\n",
       "      <td>27</td>\n",
       "      <td>2</td>\n",
       "      <td>2</td>\n",
       "      <td>2</td>\n",
       "      <td>...</td>\n",
       "      <td>2</td>\n",
       "      <td>2</td>\n",
       "      <td>2</td>\n",
       "      <td>2</td>\n",
       "      <td>1</td>\n",
       "      <td>3</td>\n",
       "      <td>97</td>\n",
       "      <td>1</td>\n",
       "      <td>4 days</td>\n",
       "      <td>0</td>\n",
       "    </tr>\n",
       "    <tr>\n",
       "      <th>...</th>\n",
       "      <td>...</td>\n",
       "      <td>...</td>\n",
       "      <td>...</td>\n",
       "      <td>...</td>\n",
       "      <td>...</td>\n",
       "      <td>...</td>\n",
       "      <td>...</td>\n",
       "      <td>...</td>\n",
       "      <td>...</td>\n",
       "      <td>...</td>\n",
       "      <td>...</td>\n",
       "      <td>...</td>\n",
       "      <td>...</td>\n",
       "      <td>...</td>\n",
       "      <td>...</td>\n",
       "      <td>...</td>\n",
       "      <td>...</td>\n",
       "      <td>...</td>\n",
       "      <td>...</td>\n",
       "      <td>...</td>\n",
       "      <td>...</td>\n",
       "    </tr>\n",
       "    <tr>\n",
       "      <th>2604469</th>\n",
       "      <td>1</td>\n",
       "      <td>6</td>\n",
       "      <td>2</td>\n",
       "      <td>2</td>\n",
       "      <td>1</td>\n",
       "      <td>1</td>\n",
       "      <td>65</td>\n",
       "      <td>97</td>\n",
       "      <td>98</td>\n",
       "      <td>98</td>\n",
       "      <td>...</td>\n",
       "      <td>98</td>\n",
       "      <td>98</td>\n",
       "      <td>98</td>\n",
       "      <td>98</td>\n",
       "      <td>2</td>\n",
       "      <td>1</td>\n",
       "      <td>2</td>\n",
       "      <td>1</td>\n",
       "      <td>0 days</td>\n",
       "      <td>1</td>\n",
       "    </tr>\n",
       "    <tr>\n",
       "      <th>2604517</th>\n",
       "      <td>1</td>\n",
       "      <td>12</td>\n",
       "      <td>2</td>\n",
       "      <td>1</td>\n",
       "      <td>97</td>\n",
       "      <td>2</td>\n",
       "      <td>29</td>\n",
       "      <td>97</td>\n",
       "      <td>2</td>\n",
       "      <td>2</td>\n",
       "      <td>...</td>\n",
       "      <td>2</td>\n",
       "      <td>2</td>\n",
       "      <td>2</td>\n",
       "      <td>2</td>\n",
       "      <td>1</td>\n",
       "      <td>1</td>\n",
       "      <td>97</td>\n",
       "      <td>1</td>\n",
       "      <td>4 days</td>\n",
       "      <td>0</td>\n",
       "    </tr>\n",
       "    <tr>\n",
       "      <th>2604538</th>\n",
       "      <td>1</td>\n",
       "      <td>6</td>\n",
       "      <td>1</td>\n",
       "      <td>2</td>\n",
       "      <td>1</td>\n",
       "      <td>1</td>\n",
       "      <td>62</td>\n",
       "      <td>2</td>\n",
       "      <td>2</td>\n",
       "      <td>2</td>\n",
       "      <td>...</td>\n",
       "      <td>2</td>\n",
       "      <td>2</td>\n",
       "      <td>2</td>\n",
       "      <td>2</td>\n",
       "      <td>2</td>\n",
       "      <td>1</td>\n",
       "      <td>2</td>\n",
       "      <td>1</td>\n",
       "      <td>7 days</td>\n",
       "      <td>1</td>\n",
       "    </tr>\n",
       "    <tr>\n",
       "      <th>2604545</th>\n",
       "      <td>2</td>\n",
       "      <td>10</td>\n",
       "      <td>2</td>\n",
       "      <td>2</td>\n",
       "      <td>2</td>\n",
       "      <td>2</td>\n",
       "      <td>68</td>\n",
       "      <td>97</td>\n",
       "      <td>2</td>\n",
       "      <td>2</td>\n",
       "      <td>...</td>\n",
       "      <td>2</td>\n",
       "      <td>2</td>\n",
       "      <td>2</td>\n",
       "      <td>2</td>\n",
       "      <td>2</td>\n",
       "      <td>1</td>\n",
       "      <td>2</td>\n",
       "      <td>1</td>\n",
       "      <td>0 days</td>\n",
       "      <td>0</td>\n",
       "    </tr>\n",
       "    <tr>\n",
       "      <th>2604656</th>\n",
       "      <td>2</td>\n",
       "      <td>10</td>\n",
       "      <td>1</td>\n",
       "      <td>2</td>\n",
       "      <td>2</td>\n",
       "      <td>2</td>\n",
       "      <td>79</td>\n",
       "      <td>2</td>\n",
       "      <td>2</td>\n",
       "      <td>2</td>\n",
       "      <td>...</td>\n",
       "      <td>2</td>\n",
       "      <td>2</td>\n",
       "      <td>2</td>\n",
       "      <td>2</td>\n",
       "      <td>2</td>\n",
       "      <td>1</td>\n",
       "      <td>2</td>\n",
       "      <td>1</td>\n",
       "      <td>2 days</td>\n",
       "      <td>0</td>\n",
       "    </tr>\n",
       "  </tbody>\n",
       "</table>\n",
       "<p>1003253 rows × 24 columns</p>\n",
       "</div>"
      ],
      "text/plain": [
       "         ORIGEN  SECTOR  SEXO  TIPO_PACIENTE  INTUBADO  NEUMONIA  EDAD  \\\n",
       "0             2       9     2              1        97         2    75   \n",
       "1             1       4     1              1        97         2    47   \n",
       "2             2       4     2              2         2         1    58   \n",
       "3             1       4     2              2         2         1    49   \n",
       "4             1      12     1              1        97         2    27   \n",
       "...         ...     ...   ...            ...       ...       ...   ...   \n",
       "2604469       1       6     2              2         1         1    65   \n",
       "2604517       1      12     2              1        97         2    29   \n",
       "2604538       1       6     1              2         1         1    62   \n",
       "2604545       2      10     2              2         2         2    68   \n",
       "2604656       2      10     1              2         2         2    79   \n",
       "\n",
       "         EMBARAZO  DIABETES  EPOC  ...  CARDIOVASCULAR  OBESIDAD  \\\n",
       "0              97         1     2  ...               1         2   \n",
       "1               2         2     2  ...               2         2   \n",
       "2              97         1     1  ...               2         2   \n",
       "3              97         2     2  ...               2         2   \n",
       "4               2         2     2  ...               2         2   \n",
       "...           ...       ...   ...  ...             ...       ...   \n",
       "2604469        97        98    98  ...              98        98   \n",
       "2604517        97         2     2  ...               2         2   \n",
       "2604538         2         2     2  ...               2         2   \n",
       "2604545        97         2     2  ...               2         2   \n",
       "2604656         2         2     2  ...               2         2   \n",
       "\n",
       "         RENAL_CRONICA  TABAQUISMO  OTRO_CASO  CLASIFICACION_FINAL  UCI  \\\n",
       "0                    2           2          2                    3   97   \n",
       "1                    2           2          1                    3   97   \n",
       "2                    1           2         99                    3    1   \n",
       "3                    2           2         99                    3    2   \n",
       "4                    2           2          1                    3   97   \n",
       "...                ...         ...        ...                  ...  ...   \n",
       "2604469             98          98          2                    1    2   \n",
       "2604517              2           2          1                    1   97   \n",
       "2604538              2           2          2                    1    2   \n",
       "2604545              2           2          2                    1    2   \n",
       "2604656              2           2          2                    1    2   \n",
       "\n",
       "         covid+  TIEMPO_SINTOMAS  FALLECIDO  \n",
       "0             1           6 days          0  \n",
       "1             1           6 days          0  \n",
       "2             1           0 days          1  \n",
       "3             1           0 days          1  \n",
       "4             1           4 days          0  \n",
       "...         ...              ...        ...  \n",
       "2604469       1           0 days          1  \n",
       "2604517       1           4 days          0  \n",
       "2604538       1           7 days          1  \n",
       "2604545       1           0 days          0  \n",
       "2604656       1           2 days          0  \n",
       "\n",
       "[1003253 rows x 24 columns]"
      ]
     },
     "execution_count": 41,
     "metadata": {},
     "output_type": "execute_result"
    }
   ],
   "source": [
    "df2"
   ]
  },
  {
   "cell_type": "code",
   "execution_count": 42,
   "metadata": {},
   "outputs": [],
   "source": [
    "#porcentajes\n",
    "#df2[\"SECTOR\"]= df2[\"SECTOR\"].map(lambda x: len(df2[df2[\"SECTOR\"]==x])/len(df2))\n",
    "\n",
    "df2[\"SECTOR\"]=df2[\"SECTOR\"].map({12:df2[\"SECTOR\"].value_counts().values[0]/len(df2), \n",
    "                               4:df2[\"SECTOR\"].value_counts().values[1]/len(df2),\n",
    "                              6:df2[\"SECTOR\"].value_counts().values[2]/len(df2),\n",
    "                              9:df2[\"SECTOR\"].value_counts().values[3]/len(df2),\n",
    "                              3:df2[\"SECTOR\"].value_counts().values[4]/len(df2),\n",
    "                              8:df2[\"SECTOR\"].value_counts().values[5]/len(df2),\n",
    "                              10:df2[\"SECTOR\"].value_counts().values[6]/len(df2),\n",
    "                              5:df2[\"SECTOR\"].value_counts().values[7]/len(df2),\n",
    "                              11:df2[\"SECTOR\"].value_counts().values[8]/len(df2),\n",
    "                              13:df2[\"SECTOR\"].value_counts().values[9]/len(df2),\n",
    "                              7:df2[\"SECTOR\"].value_counts().values[10]/len(df2),\n",
    "                              2:df2[\"SECTOR\"].value_counts().values[11]/len(df2),\n",
    "                              1:df2[\"SECTOR\"].value_counts().values[12]/len(df2)})\n",
    "   \n"
   ]
  },
  {
   "cell_type": "code",
   "execution_count": 43,
   "metadata": {},
   "outputs": [],
   "source": [
    "\n",
    "#cambios hechos a mano\n",
    "df2[\"INTUBADO\"]=df2[\"INTUBADO\"].map(lambda x: 1 if x==1 else 2)\n",
    "\n"
   ]
  },
  {
   "cell_type": "code",
   "execution_count": 44,
   "metadata": {},
   "outputs": [],
   "source": [
    "df2[\"EMBARAZO\"]=df2[\"EMBARAZO\"].map(lambda x: 1 if x==1 else 2)\n"
   ]
  },
  {
   "cell_type": "code",
   "execution_count": 45,
   "metadata": {},
   "outputs": [],
   "source": [
    "df2[\"NEUMONIA\"]=df2[\"NEUMONIA\"].map(lambda x: 1 if x==1 else 2)"
   ]
  },
  {
   "cell_type": "code",
   "execution_count": 46,
   "metadata": {},
   "outputs": [
    {
     "data": {
      "text/html": [
       "<div>\n",
       "<style scoped>\n",
       "    .dataframe tbody tr th:only-of-type {\n",
       "        vertical-align: middle;\n",
       "    }\n",
       "\n",
       "    .dataframe tbody tr th {\n",
       "        vertical-align: top;\n",
       "    }\n",
       "\n",
       "    .dataframe thead th {\n",
       "        text-align: right;\n",
       "    }\n",
       "</style>\n",
       "<table border=\"1\" class=\"dataframe\">\n",
       "  <thead>\n",
       "    <tr style=\"text-align: right;\">\n",
       "      <th></th>\n",
       "      <th>ORIGEN</th>\n",
       "      <th>SECTOR</th>\n",
       "      <th>SEXO</th>\n",
       "      <th>TIPO_PACIENTE</th>\n",
       "      <th>INTUBADO</th>\n",
       "      <th>NEUMONIA</th>\n",
       "      <th>EDAD</th>\n",
       "      <th>EMBARAZO</th>\n",
       "      <th>DIABETES</th>\n",
       "      <th>EPOC</th>\n",
       "      <th>...</th>\n",
       "      <th>CARDIOVASCULAR</th>\n",
       "      <th>OBESIDAD</th>\n",
       "      <th>RENAL_CRONICA</th>\n",
       "      <th>TABAQUISMO</th>\n",
       "      <th>OTRO_CASO</th>\n",
       "      <th>CLASIFICACION_FINAL</th>\n",
       "      <th>UCI</th>\n",
       "      <th>covid+</th>\n",
       "      <th>TIEMPO_SINTOMAS</th>\n",
       "      <th>FALLECIDO</th>\n",
       "    </tr>\n",
       "  </thead>\n",
       "  <tbody>\n",
       "    <tr>\n",
       "      <th>0</th>\n",
       "      <td>2</td>\n",
       "      <td>0.030611</td>\n",
       "      <td>2</td>\n",
       "      <td>1</td>\n",
       "      <td>2</td>\n",
       "      <td>2</td>\n",
       "      <td>75</td>\n",
       "      <td>2</td>\n",
       "      <td>1</td>\n",
       "      <td>2</td>\n",
       "      <td>...</td>\n",
       "      <td>1</td>\n",
       "      <td>2</td>\n",
       "      <td>2</td>\n",
       "      <td>2</td>\n",
       "      <td>2</td>\n",
       "      <td>3</td>\n",
       "      <td>97</td>\n",
       "      <td>1</td>\n",
       "      <td>6 days</td>\n",
       "      <td>0</td>\n",
       "    </tr>\n",
       "    <tr>\n",
       "      <th>1</th>\n",
       "      <td>1</td>\n",
       "      <td>0.305010</td>\n",
       "      <td>1</td>\n",
       "      <td>1</td>\n",
       "      <td>2</td>\n",
       "      <td>2</td>\n",
       "      <td>47</td>\n",
       "      <td>2</td>\n",
       "      <td>2</td>\n",
       "      <td>2</td>\n",
       "      <td>...</td>\n",
       "      <td>2</td>\n",
       "      <td>2</td>\n",
       "      <td>2</td>\n",
       "      <td>2</td>\n",
       "      <td>1</td>\n",
       "      <td>3</td>\n",
       "      <td>97</td>\n",
       "      <td>1</td>\n",
       "      <td>6 days</td>\n",
       "      <td>0</td>\n",
       "    </tr>\n",
       "    <tr>\n",
       "      <th>2</th>\n",
       "      <td>2</td>\n",
       "      <td>0.305010</td>\n",
       "      <td>2</td>\n",
       "      <td>2</td>\n",
       "      <td>2</td>\n",
       "      <td>1</td>\n",
       "      <td>58</td>\n",
       "      <td>2</td>\n",
       "      <td>1</td>\n",
       "      <td>1</td>\n",
       "      <td>...</td>\n",
       "      <td>2</td>\n",
       "      <td>2</td>\n",
       "      <td>1</td>\n",
       "      <td>2</td>\n",
       "      <td>99</td>\n",
       "      <td>3</td>\n",
       "      <td>1</td>\n",
       "      <td>1</td>\n",
       "      <td>0 days</td>\n",
       "      <td>1</td>\n",
       "    </tr>\n",
       "    <tr>\n",
       "      <th>3</th>\n",
       "      <td>1</td>\n",
       "      <td>0.305010</td>\n",
       "      <td>2</td>\n",
       "      <td>2</td>\n",
       "      <td>2</td>\n",
       "      <td>1</td>\n",
       "      <td>49</td>\n",
       "      <td>2</td>\n",
       "      <td>2</td>\n",
       "      <td>2</td>\n",
       "      <td>...</td>\n",
       "      <td>2</td>\n",
       "      <td>2</td>\n",
       "      <td>2</td>\n",
       "      <td>2</td>\n",
       "      <td>99</td>\n",
       "      <td>3</td>\n",
       "      <td>2</td>\n",
       "      <td>1</td>\n",
       "      <td>0 days</td>\n",
       "      <td>1</td>\n",
       "    </tr>\n",
       "    <tr>\n",
       "      <th>4</th>\n",
       "      <td>1</td>\n",
       "      <td>0.569643</td>\n",
       "      <td>1</td>\n",
       "      <td>1</td>\n",
       "      <td>2</td>\n",
       "      <td>2</td>\n",
       "      <td>27</td>\n",
       "      <td>2</td>\n",
       "      <td>2</td>\n",
       "      <td>2</td>\n",
       "      <td>...</td>\n",
       "      <td>2</td>\n",
       "      <td>2</td>\n",
       "      <td>2</td>\n",
       "      <td>2</td>\n",
       "      <td>1</td>\n",
       "      <td>3</td>\n",
       "      <td>97</td>\n",
       "      <td>1</td>\n",
       "      <td>4 days</td>\n",
       "      <td>0</td>\n",
       "    </tr>\n",
       "  </tbody>\n",
       "</table>\n",
       "<p>5 rows × 24 columns</p>\n",
       "</div>"
      ],
      "text/plain": [
       "   ORIGEN    SECTOR  SEXO  TIPO_PACIENTE  INTUBADO  NEUMONIA  EDAD  EMBARAZO  \\\n",
       "0       2  0.030611     2              1         2         2    75         2   \n",
       "1       1  0.305010     1              1         2         2    47         2   \n",
       "2       2  0.305010     2              2         2         1    58         2   \n",
       "3       1  0.305010     2              2         2         1    49         2   \n",
       "4       1  0.569643     1              1         2         2    27         2   \n",
       "\n",
       "   DIABETES  EPOC  ...  CARDIOVASCULAR  OBESIDAD  RENAL_CRONICA  TABAQUISMO  \\\n",
       "0         1     2  ...               1         2              2           2   \n",
       "1         2     2  ...               2         2              2           2   \n",
       "2         1     1  ...               2         2              1           2   \n",
       "3         2     2  ...               2         2              2           2   \n",
       "4         2     2  ...               2         2              2           2   \n",
       "\n",
       "   OTRO_CASO  CLASIFICACION_FINAL  UCI  covid+  TIEMPO_SINTOMAS  FALLECIDO  \n",
       "0          2                    3   97       1           6 days          0  \n",
       "1          1                    3   97       1           6 days          0  \n",
       "2         99                    3    1       1           0 days          1  \n",
       "3         99                    3    2       1           0 days          1  \n",
       "4          1                    3   97       1           4 days          0  \n",
       "\n",
       "[5 rows x 24 columns]"
      ]
     },
     "execution_count": 46,
     "metadata": {},
     "output_type": "execute_result"
    }
   ],
   "source": [
    "df2.head()"
   ]
  },
  {
   "cell_type": "code",
   "execution_count": 47,
   "metadata": {},
   "outputs": [],
   "source": [
    "df2[\"TIEMPO_SINTOMAS2\"]=df2['TIEMPO_SINTOMAS'].astype('str').map(lambda x: int(x.split()[0]))"
   ]
  },
  {
   "cell_type": "code",
   "execution_count": 48,
   "metadata": {},
   "outputs": [
    {
     "data": {
      "text/plain": [
       "0          6\n",
       "1          6\n",
       "2          0\n",
       "3          0\n",
       "4          4\n",
       "          ..\n",
       "2604469    0\n",
       "2604517    4\n",
       "2604538    7\n",
       "2604545    0\n",
       "2604656    2\n",
       "Name: TIEMPO_SINTOMAS2, Length: 1003253, dtype: int64"
      ]
     },
     "execution_count": 48,
     "metadata": {},
     "output_type": "execute_result"
    }
   ],
   "source": [
    "df2[\"TIEMPO_SINTOMAS2\"]"
   ]
  },
  {
   "cell_type": "code",
   "execution_count": 49,
   "metadata": {},
   "outputs": [],
   "source": [
    "df2.drop(\"TIEMPO_SINTOMAS\", axis=1, inplace=True)"
   ]
  },
  {
   "cell_type": "markdown",
   "metadata": {},
   "source": [
    "## MODELO "
   ]
  },
  {
   "cell_type": "code",
   "execution_count": 50,
   "metadata": {},
   "outputs": [],
   "source": [
    "X=df2.drop(\"FALLECIDO\", axis=1)\n",
    "y=df2[\"FALLECIDO\"]"
   ]
  },
  {
   "cell_type": "markdown",
   "metadata": {},
   "source": [
    "# Balanceo de clases"
   ]
  },
  {
   "cell_type": "code",
   "execution_count": 51,
   "metadata": {},
   "outputs": [
    {
     "data": {
      "text/plain": [
       "904994"
      ]
     },
     "execution_count": 51,
     "metadata": {},
     "output_type": "execute_result"
    }
   ],
   "source": [
    "#vemos que hay desbalanceo de clases, aplicamos SMOTE:\n",
    "len(df2[df2[\"FALLECIDO\"]==0])"
   ]
  },
  {
   "cell_type": "code",
   "execution_count": 52,
   "metadata": {},
   "outputs": [],
   "source": [
    "from sklearn.metrics import accuracy_score\n",
    "from sklearn.model_selection import train_test_split\n",
    "from sklearn.ensemble import RandomForestClassifier\n",
    "\n",
    "X_train, X_test, y_train, y_test = train_test_split(X, y, test_size=0.2, stratify=df2[\"FALLECIDO\"])"
   ]
  },
  {
   "cell_type": "code",
   "execution_count": 53,
   "metadata": {},
   "outputs": [],
   "source": [
    "from imblearn.under_sampling import RandomUnderSampler\n",
    "\n",
    "undersampling = RandomUnderSampler(sampling_strategy=0.3) \n",
    "X_balanceado, y_balanceado = undersampling.fit_resample(X_train, y_train)"
   ]
  },
  {
   "cell_type": "code",
   "execution_count": 54,
   "metadata": {},
   "outputs": [
    {
     "data": {
      "text/plain": [
       "Counter({0: 262023, 1: 78607})"
      ]
     },
     "execution_count": 54,
     "metadata": {},
     "output_type": "execute_result"
    }
   ],
   "source": [
    "from collections import Counter\n",
    "Counter(y_balanceado)"
   ]
  },
  {
   "cell_type": "code",
   "execution_count": 55,
   "metadata": {},
   "outputs": [],
   "source": [
    "from imblearn.over_sampling import SMOTE \n",
    "oversampling = SMOTE()\n",
    "X_balanceado2, y_balanceado2 = oversampling.fit_resample(X_balanceado, y_balanceado)"
   ]
  },
  {
   "cell_type": "code",
   "execution_count": 56,
   "metadata": {},
   "outputs": [
    {
     "data": {
      "text/plain": [
       "Counter({0: 262023, 1: 262023})"
      ]
     },
     "execution_count": 56,
     "metadata": {},
     "output_type": "execute_result"
    }
   ],
   "source": [
    "from collections import Counter\n",
    "Counter(y_balanceado2)"
   ]
  },
  {
   "cell_type": "code",
   "execution_count": 57,
   "metadata": {},
   "outputs": [],
   "source": [
    "from sklearn.metrics import accuracy_score\n",
    "from sklearn.model_selection import train_test_split\n",
    "from sklearn.ensemble import RandomForestClassifier\n",
    "\n",
    "X_train, X_test, y_train, y_test = train_test_split(X, y, test_size=0.2, stratify=df2[\"FALLECIDO\"])"
   ]
  },
  {
   "cell_type": "code",
   "execution_count": 58,
   "metadata": {},
   "outputs": [
    {
     "data": {
      "text/plain": [
       "Counter({0: 180999, 1: 19652})"
      ]
     },
     "execution_count": 58,
     "metadata": {},
     "output_type": "execute_result"
    }
   ],
   "source": [
    "from collections import Counter\n",
    "Counter(y_test)"
   ]
  },
  {
   "attachments": {
    "image.png": {
     "image/png": "[encoded data removed]"
    }
   },
   "cell_type": "markdown",
   "metadata": {},
   "source": [
    "1. ¿Cuál es el problema que se busca resolver?\n",
    "\n",
    "Buscamos clasificador un patron nuevo con coronavirus en base a la clasificacion muere/no muere.\n",
    "\n",
    "\n",
    "2. ¿Qué datos se utilizan?\n",
    "\n",
    "Se utilizaron las columnas:\n",
    "\n",
    "ORIGEN'\n",
    "\n",
    "'SECTOR'\n",
    "\n",
    "'SEXO\n",
    "\n",
    "'TIPO_PACIENTE'\n",
    "\n",
    "'INTUBADO'\n",
    "\n",
    "'NEUMONIA'\n",
    "\n",
    "'EDAD'\n",
    "\n",
    "'EMBARAZO'\n",
    "\n",
    "'DIABETES\n",
    "\n",
    "'EPOC'\n",
    "\n",
    "'ASMA'\n",
    "\n",
    "'INMUSUPR'\n",
    "\n",
    "'HIPERTENSION'\n",
    "\n",
    "'OTRA_COM'\n",
    "\n",
    "'CARDIOVASCULAR'\n",
    "\n",
    "'OBESIDAD'\n",
    "\n",
    "'RENAL_CRONICA'\n",
    "\n",
    "'TABAQUISMO'\n",
    "\n",
    "'OTRO_CASO'\n",
    "\n",
    "'CLASIFICACION_FINAL'\n",
    "\n",
    "'UCI'\n",
    "\n",
    "\n",
    "\n",
    "3. ¿Qué trabajo adicional requieren los datos para poder trabajar?\n",
    "\n",
    "Tuvimos que cambiar la columna FECHA DEF a string\n",
    "\n",
    "Columna nueva con la diferencia de dias entre fecha de sintomas y fecha de defuncion\n",
    "\n",
    "Cambiamos los valores de las columnas INTUBADO, EMBARAZO, NEUMONIA a dummies\n",
    "\n",
    "4. ¿De qué manera se pueden visualizar los datos?\n",
    "\n",
    "\n",
    "\n",
    "5. ¿Responde realmente el modelo utilizado al problema inicial o necesita ser ajustado?\n",
    "\n",
    "En nuestro modelo \n",
    "6. Describe el proceso o los pasos a seguir hasta la finalización del proyecto utilizando un diagrama de bloques y después con un pequeño resumen o explicación por cada bloque.\n",
    "\n",
    "![image.png](attachment:image.png)\n"
   ]
  },
  {
   "cell_type": "code",
   "execution_count": 59,
   "metadata": {},
   "outputs": [
    {
     "data": {
      "text/plain": [
       "0.9043530627241034"
      ]
     },
     "execution_count": 59,
     "metadata": {},
     "output_type": "execute_result"
    }
   ],
   "source": [
    "163687/(163687+17312)"
   ]
  },
  {
   "cell_type": "code",
   "execution_count": null,
   "metadata": {},
   "outputs": [],
   "source": []
  }
 ],
 "metadata": {
  "kernelspec": {
   "display_name": "Python 3 (ipykernel)",
   "language": "python",
   "name": "python3"
  },
  "language_info": {
   "codemirror_mode": {
    "name": "ipython",
    "version": 3
   },
   "file_extension": ".py",
   "mimetype": "text/x-python",
   "name": "python",
   "nbconvert_exporter": "python",
   "pygments_lexer": "ipython3",
   "version": "3.8.5"
  }
 },
 "nbformat": 4,
 "nbformat_minor": 4
}
